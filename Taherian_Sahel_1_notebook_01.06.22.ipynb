{
 "cells": [
  {
   "cell_type": "markdown",
   "id": "e89576d3-a489-43a2-a740-a1b3d163c65a",
   "metadata": {
    "id": "e89576d3-a489-43a2-a740-a1b3d163c65a"
   },
   "source": [
    "## <span style='color:blue '> Projet 8, Déployez un modèle dans le cloud </span>"
   ]
  },
  {
   "cell_type": "markdown",
   "id": "d42f8743-ba82-4a22-ac9c-ba48ae42bf37",
   "metadata": {
    "id": "d42f8743-ba82-4a22-ac9c-ba48ae42bf37"
   },
   "source": [
    "#### Une première chaîne de traitement des données (scripts en PySpark) dans un environnement Big Data "
   ]
  },
  {
   "cell_type": "code",
   "execution_count": null,
   "id": "XyKroST8H4Hx",
   "metadata": {
    "id": "XyKroST8H4Hx"
   },
   "outputs": [],
   "source": [
    "pip install tensorflow\n",
    "pip install boto3\n",
    "pip install findspark\n",
    "pip install pyspark"
   ]
  },
  {
   "cell_type": "markdown",
   "id": "56b79305-6d86-48fb-8d6b-d291410618a5",
   "metadata": {
    "id": "56b79305-6d86-48fb-8d6b-d291410618a5"
   },
   "source": [
    "#### Chargement des librairies"
   ]
  },
  {
   "cell_type": "code",
   "execution_count": 8,
   "id": "d3def864-7c49-46e2-84a1-d45defddec8a",
   "metadata": {
    "colab": {
     "base_uri": "https://localhost:8080/"
    },
    "executionInfo": {
     "elapsed": 1432,
     "status": "ok",
     "timestamp": 1653982562537,
     "user": {
      "displayName": "Sahel Taherian",
      "userId": "08169290109466282224"
     },
     "user_tz": -120
    },
    "id": "d3def864-7c49-46e2-84a1-d45defddec8a",
    "outputId": "db751bb7-05e8-4404-9696-cf6c11016e97"
   },
   "outputs": [
    {
     "name": "stdout",
     "output_type": "stream",
     "text": [
      "Populating the interactive namespace from numpy and matplotlib\n"
     ]
    }
   ],
   "source": [
    "import os\n",
    "import logging\n",
    "import warnings\n",
    "import pandas as pd\n",
    "%pylab inline\n",
    "import seaborn as sns"
   ]
  },
  {
   "cell_type": "code",
   "execution_count": 9,
   "id": "bd12d871-433d-4324-8b73-543eb60c8238",
   "metadata": {
    "executionInfo": {
     "elapsed": 162,
     "status": "ok",
     "timestamp": 1653982566299,
     "user": {
      "displayName": "Sahel Taherian",
      "userId": "08169290109466282224"
     },
     "user_tz": -120
    },
    "id": "bd12d871-433d-4324-8b73-543eb60c8238"
   },
   "outputs": [],
   "source": [
    "import io\n",
    "from io import StringIO"
   ]
  },
  {
   "cell_type": "code",
   "execution_count": 11,
   "id": "a3a3bf3e-5543-4f46-ad39-14f1211dd4c1",
   "metadata": {
    "colab": {
     "base_uri": "https://localhost:8080/",
     "height": 36
    },
    "executionInfo": {
     "elapsed": 272,
     "status": "ok",
     "timestamp": 1653982571180,
     "user": {
      "displayName": "Sahel Taherian",
      "userId": "08169290109466282224"
     },
     "user_tz": -120
    },
    "id": "a3a3bf3e-5543-4f46-ad39-14f1211dd4c1",
    "outputId": "3ad13433-c11c-40d2-8697-e17cb8040d46"
   },
   "outputs": [
    {
     "data": {
      "application/vnd.google.colaboratory.intrinsic+json": {
       "type": "string"
      },
      "text/plain": [
       "'/content/drive/MyDrive/Colab Notebooks/P8'"
      ]
     },
     "execution_count": 11,
     "metadata": {},
     "output_type": "execute_result"
    }
   ],
   "source": [
    "import os\n",
    "os.getcwd()"
   ]
  },
  {
   "cell_type": "markdown",
   "id": "0a48c631-86d2-4689-a1db-b03171ff1a44",
   "metadata": {
    "id": "0a48c631-86d2-4689-a1db-b03171ff1a44"
   },
   "source": [
    "La librairie (kit SDK AWS) \"Boto3\" permet de créer, de configurer et de gérer les services AWS. L'implémentation est basée sur l'exemple de la documentation de Boto 3 "
   ]
  },
  {
   "cell_type": "code",
   "execution_count": 12,
   "id": "37a3f2bf-39a6-474d-bd5a-310e5616ea55",
   "metadata": {
    "executionInfo": {
     "elapsed": 442,
     "status": "ok",
     "timestamp": 1653982574793,
     "user": {
      "displayName": "Sahel Taherian",
      "userId": "08169290109466282224"
     },
     "user_tz": -120
    },
    "id": "37a3f2bf-39a6-474d-bd5a-310e5616ea55"
   },
   "outputs": [],
   "source": [
    "# Connection à AWS S3\n",
    "import boto3"
   ]
  },
  {
   "cell_type": "markdown",
   "id": "5802a4aa-932d-46a6-86d6-df0ce62f285c",
   "metadata": {
    "id": "5802a4aa-932d-46a6-86d6-df0ce62f285c"
   },
   "source": [
    "Le module \"findspark\" permet de localiser Spark sur le serveur EC2"
   ]
  },
  {
   "cell_type": "code",
   "execution_count": 13,
   "id": "390165ab-4039-4819-9499-ad00d6e168a1",
   "metadata": {
    "colab": {
     "base_uri": "https://localhost:8080/",
     "height": 36
    },
    "executionInfo": {
     "elapsed": 228,
     "status": "ok",
     "timestamp": 1653982578040,
     "user": {
      "displayName": "Sahel Taherian",
      "userId": "08169290109466282224"
     },
     "user_tz": -120
    },
    "id": "390165ab-4039-4819-9499-ad00d6e168a1",
    "outputId": "ee282a5e-6976-43b0-a9b3-5faac92f63a5"
   },
   "outputs": [
    {
     "data": {
      "application/vnd.google.colaboratory.intrinsic+json": {
       "type": "string"
      },
      "text/plain": [
       "'/usr/local/lib/python3.7/dist-packages/pyspark'"
      ]
     },
     "execution_count": 13,
     "metadata": {},
     "output_type": "execute_result"
    }
   ],
   "source": [
    "# Import PySpark\n",
    "import pyspark\n",
    "import findspark\n",
    "findspark.init()\n",
    "findspark.find()"
   ]
  },
  {
   "cell_type": "code",
   "execution_count": 14,
   "id": "48688669-3ed4-40be-a2cc-1d611bac0388",
   "metadata": {
    "colab": {
     "base_uri": "https://localhost:8080/",
     "height": 36
    },
    "executionInfo": {
     "elapsed": 290,
     "status": "ok",
     "timestamp": 1653982581624,
     "user": {
      "displayName": "Sahel Taherian",
      "userId": "08169290109466282224"
     },
     "user_tz": -120
    },
    "id": "48688669-3ed4-40be-a2cc-1d611bac0388",
    "outputId": "34c21546-d2e0-4905-c212-727557cc1d10"
   },
   "outputs": [
    {
     "data": {
      "application/vnd.google.colaboratory.intrinsic+json": {
       "type": "string"
      },
      "text/plain": [
       "'3.2.1'"
      ]
     },
     "execution_count": 14,
     "metadata": {},
     "output_type": "execute_result"
    }
   ],
   "source": [
    "pyspark.__version__"
   ]
  },
  {
   "cell_type": "markdown",
   "id": "3a8b8174-e319-4a5c-8273-9e1369e2b0f0",
   "metadata": {
    "id": "3a8b8174-e319-4a5c-8273-9e1369e2b0f0"
   },
   "source": [
    "PySpark est une interface pour Apache Spark en Python qui par défaut utilise scala."
   ]
  },
  {
   "cell_type": "code",
   "execution_count": 15,
   "id": "5c581622-dc13-42b1-a0cd-f4bca6f16d04",
   "metadata": {
    "executionInfo": {
     "elapsed": 158,
     "status": "ok",
     "timestamp": 1653982585290,
     "user": {
      "displayName": "Sahel Taherian",
      "userId": "08169290109466282224"
     },
     "user_tz": -120
    },
    "id": "5c581622-dc13-42b1-a0cd-f4bca6f16d04"
   },
   "outputs": [],
   "source": [
    "# Pyspark libraries\n",
    "from pyspark import SparkContext\n",
    "from pyspark.sql import SparkSession\n",
    "from pyspark.sql.functions import col, split, udf, pandas_udf, PandasUDFType\n",
    "from pyspark.ml.linalg import Vectors, VectorUDT\n",
    "from pyspark.ml.feature import StringIndexer, StandardScaler, PCA"
   ]
  },
  {
   "cell_type": "markdown",
   "id": "Vze0CSM5qPTe",
   "metadata": {
    "id": "Vze0CSM5qPTe"
   },
   "source": [
    "Pandas UDF : Une fonction définie par l'utilisateur (UDF) pandas, également appelée UDF vectorisée, est une fonction définie par l'utilisateur qui utilise Apache Arrow pour transférer des données et des fonctions pandas pour utiliser les données"
   ]
  },
  {
   "cell_type": "code",
   "execution_count": 16,
   "id": "e5dce48b-ba2e-4a84-82df-96790d9af3b5",
   "metadata": {
    "executionInfo": {
     "elapsed": 252,
     "status": "ok",
     "timestamp": 1653982589595,
     "user": {
      "displayName": "Sahel Taherian",
      "userId": "08169290109466282224"
     },
     "user_tz": -120
    },
    "id": "e5dce48b-ba2e-4a84-82df-96790d9af3b5"
   },
   "outputs": [],
   "source": [
    "# Image processing libraries\n",
    "from PIL import Image"
   ]
  },
  {
   "cell_type": "code",
   "execution_count": 17,
   "id": "ad44481a-0d7a-4d83-9472-2289a34eec18",
   "metadata": {
    "colab": {
     "base_uri": "https://localhost:8080/"
    },
    "executionInfo": {
     "elapsed": 2765,
     "status": "ok",
     "timestamp": 1653982594013,
     "user": {
      "displayName": "Sahel Taherian",
      "userId": "08169290109466282224"
     },
     "user_tz": -120
    },
    "id": "ad44481a-0d7a-4d83-9472-2289a34eec18",
    "outputId": "d7444037-5752-4886-cf9d-da9e6ea7562d"
   },
   "outputs": [
    {
     "name": "stderr",
     "output_type": "stream",
     "text": [
      "/usr/local/lib/python3.7/dist-packages/requests/__init__.py:91: RequestsDependencyWarning: urllib3 (1.26.9) or chardet (3.0.4) doesn't match a supported version!\n",
      "  RequestsDependencyWarning)\n"
     ]
    }
   ],
   "source": [
    "# CNN (Convolutional Neural Network) Transfer learning libraries\n",
    "from tensorflow.keras.applications.resnet50 import ResNet50, preprocess_input\n",
    "from tensorflow.keras.preprocessing.image import img_to_array"
   ]
  },
  {
   "cell_type": "code",
   "execution_count": 18,
   "id": "62e7e966-2990-407d-869c-5269f51d57c1",
   "metadata": {
    "executionInfo": {
     "elapsed": 215,
     "status": "ok",
     "timestamp": 1653982596062,
     "user": {
      "displayName": "Sahel Taherian",
      "userId": "08169290109466282224"
     },
     "user_tz": -120
    },
    "id": "62e7e966-2990-407d-869c-5269f51d57c1"
   },
   "outputs": [],
   "source": [
    "from tensorflow import keras"
   ]
  },
  {
   "cell_type": "code",
   "execution_count": 19,
   "id": "4b4298cb-1841-4051-8f55-08555e1d1e63",
   "metadata": {
    "executionInfo": {
     "elapsed": 165,
     "status": "ok",
     "timestamp": 1653982598478,
     "user": {
      "displayName": "Sahel Taherian",
      "userId": "08169290109466282224"
     },
     "user_tz": -120
    },
    "id": "4b4298cb-1841-4051-8f55-08555e1d1e63"
   },
   "outputs": [],
   "source": [
    "# Désactiver les WARNING, INFO et DEBUG partout\n",
    "os.environ['TF_CPP_MIN_LOG_LEVEL'] = '3'\n",
    "logging.disable(logging.WARNING)\n",
    "warnings.filterwarnings('ignore')\n",
    "\n",
    "plt.style.use('seaborn')"
   ]
  },
  {
   "cell_type": "code",
   "execution_count": 20,
   "id": "25d25da8-a52a-48ad-b4ee-6f5dc3dbda2c",
   "metadata": {
    "colab": {
     "base_uri": "https://localhost:8080/"
    },
    "executionInfo": {
     "elapsed": 227,
     "status": "ok",
     "timestamp": 1653982600569,
     "user": {
      "displayName": "Sahel Taherian",
      "userId": "08169290109466282224"
     },
     "user_tz": -120
    },
    "id": "25d25da8-a52a-48ad-b4ee-6f5dc3dbda2c",
    "outputId": "55540eb6-56e2-420c-e43d-085952ad2bad"
   },
   "outputs": [
    {
     "name": "stdout",
     "output_type": "stream",
     "text": [
      "/usr/bin/python3\n"
     ]
    }
   ],
   "source": [
    "print(os.environ['PYSPARK_PYTHON'])"
   ]
  },
  {
   "cell_type": "code",
   "execution_count": 21,
   "id": "fc9ea1ae-696b-4e35-9a51-3eee92308b32",
   "metadata": {
    "executionInfo": {
     "elapsed": 207,
     "status": "ok",
     "timestamp": 1653982603127,
     "user": {
      "displayName": "Sahel Taherian",
      "userId": "08169290109466282224"
     },
     "user_tz": -120
    },
    "id": "fc9ea1ae-696b-4e35-9a51-3eee92308b32"
   },
   "outputs": [],
   "source": [
    "# pip install tensorflow"
   ]
  },
  {
   "cell_type": "code",
   "execution_count": 22,
   "id": "be27097e-67a2-4d1d-8c06-1db9025e7767",
   "metadata": {
    "colab": {
     "base_uri": "https://localhost:8080/"
    },
    "executionInfo": {
     "elapsed": 222,
     "status": "ok",
     "timestamp": 1653982605279,
     "user": {
      "displayName": "Sahel Taherian",
      "userId": "08169290109466282224"
     },
     "user_tz": -120
    },
    "id": "be27097e-67a2-4d1d-8c06-1db9025e7767",
    "outputId": "537666e6-0cde-42a0-c1d6-0a1fbcdc8b3e"
   },
   "outputs": [
    {
     "name": "stdout",
     "output_type": "stream",
     "text": [
      "<module 'tensorflow._api.v2.version' from '/usr/local/lib/python3.7/dist-packages/tensorflow/_api/v2/version/__init__.py'>\n"
     ]
    }
   ],
   "source": [
    "import tensorflow as tf\n",
    "print(tf.version)"
   ]
  },
  {
   "cell_type": "markdown",
   "id": "92fe8b86-8615-4606-8ec4-e9ec020cc78f",
   "metadata": {
    "id": "92fe8b86-8615-4606-8ec4-e9ec020cc78f"
   },
   "source": [
    "### <span style='color:blue '> 1- Prétraitement </span>"
   ]
  },
  {
   "cell_type": "markdown",
   "id": "f5dcc6de-67f0-4427-963d-58d87a1eb7e6",
   "metadata": {
    "id": "f5dcc6de-67f0-4427-963d-58d87a1eb7e6"
   },
   "source": [
    "### <span style='color:green '> 1.1.Connexion entre l'instance EC2 et le service S3 par le service IAM </span>"
   ]
  },
  {
   "cell_type": "markdown",
   "id": "869f2c0d-dcf7-4366-b1a6-072085068c23",
   "metadata": {
    "id": "869f2c0d-dcf7-4366-b1a6-072085068c23"
   },
   "source": [
    "Un utilisateur IAM est une identité avec des informations d'identification à long terme utilisées pour interagir avec AWS dans un compte."
   ]
  },
  {
   "cell_type": "code",
   "execution_count": 23,
   "id": "c0b94f8e-674a-4133-88fd-c7683fcb7871",
   "metadata": {
    "colab": {
     "base_uri": "https://localhost:8080/"
    },
    "executionInfo": {
     "elapsed": 743,
     "status": "ok",
     "timestamp": 1653982614469,
     "user": {
      "displayName": "Sahel Taherian",
      "userId": "08169290109466282224"
     },
     "user_tz": -120
    },
    "id": "c0b94f8e-674a-4133-88fd-c7683fcb7871",
    "outputId": "dff74acd-00dc-45d7-efe6-beb4e6eebda4"
   },
   "outputs": [
    {
     "name": "stdout",
     "output_type": "stream",
     "text": [
      "\n",
      "Existing buckets:\n",
      "  p8-sahelbucket\n",
      "  saheltestbucket\n"
     ]
    }
   ],
   "source": [
    "# AWS IAM user credentials\n",
    "\n",
    "file = '/content/drive/MyDrive/Colab Notebooks/P8/new_user_credentials.csv'\n",
    "credentials_df = pd.read_csv(file)\n",
    "Acces_key_ID = credentials_df['Access key ID'].iloc[0]\n",
    "Secret_access_key = credentials_df['Secret access key'].iloc[0]\n",
    "\n",
    "# Bucket and Oject names\n",
    "BUCKET_NAME = 'p8-sahelbucket'\n",
    "OBJECT_NAME = 'fruits-360-original-size/Sample/'\n",
    "\n",
    "# Create a S3 client with IAM user credentials\n",
    "s3_client = boto3.client(\n",
    "    's3',\n",
    "    aws_access_key_id=Acces_key_ID,\n",
    "    aws_secret_access_key=Secret_access_key)\n",
    "\n",
    "# Output the bucket names\n",
    "response = s3_client.list_buckets()\n",
    "print('\\nExisting buckets:')\n",
    "for bucket in response['Buckets']:\n",
    "    print(f'  {bucket[\"Name\"]}')"
   ]
  },
  {
   "cell_type": "markdown",
   "id": "c628ea41-2caa-4529-8120-898a13241ea1",
   "metadata": {
    "id": "c628ea41-2caa-4529-8120-898a13241ea1"
   },
   "source": [
    "### <span style='color:green '> 1.2. Packages permettant d'obtenir des fichiers s3 depuis le notebook</span>"
   ]
  },
  {
   "cell_type": "markdown",
   "id": "d860c7e9-ab2a-420a-8948-d4f18ff2c948",
   "metadata": {
    "id": "d860c7e9-ab2a-420a-8948-d4f18ff2c948"
   },
   "source": [
    "Tous les jars hadoop dans site-package/pyspark/jars doivent être dans la même version. "
   ]
  },
  {
   "cell_type": "markdown",
   "id": "309cfbcf-a5bc-4a9a-b55b-bba16ae88476",
   "metadata": {
    "id": "309cfbcf-a5bc-4a9a-b55b-bba16ae88476"
   },
   "source": [
    "Pour la version 3.2.2 de hadoop-aws, le package aws-java-sdk-s3:1.11.563 est nécessaire."
   ]
  },
  {
   "cell_type": "code",
   "execution_count": 24,
   "id": "aa517a70-e4fc-49b2-95db-08a063ea564b",
   "metadata": {
    "executionInfo": {
     "elapsed": 212,
     "status": "ok",
     "timestamp": 1653982627502,
     "user": {
      "displayName": "Sahel Taherian",
      "userId": "08169290109466282224"
     },
     "user_tz": -120
    },
    "id": "aa517a70-e4fc-49b2-95db-08a063ea564b"
   },
   "outputs": [],
   "source": [
    "os.environ['PYSPARK_SUBMIT_ARGS'] = '--packages com.amazonaws:aws-java-sdk-s3:1.11.563,org.apache.hadoop:hadoop-aws:3.2.2 pyspark-shell'"
   ]
  },
  {
   "cell_type": "markdown",
   "id": "18eafb93-4ec6-43ac-bf2e-52897061e46a",
   "metadata": {
    "id": "18eafb93-4ec6-43ac-bf2e-52897061e46a"
   },
   "source": [
    "### <span style='color:green '> 1.3. Configuration de Spark </span>"
   ]
  },
  {
   "cell_type": "markdown",
   "id": "fb739e16-620c-49d6-b29a-939e0e20cb4c",
   "metadata": {
    "id": "fb739e16-620c-49d6-b29a-939e0e20cb4c"
   },
   "source": [
    "#### 1.3.1. Création de SparkSession"
   ]
  },
  {
   "cell_type": "code",
   "execution_count": 25,
   "id": "d385093d-3e30-4a9c-ace4-ce9653eb67e3",
   "metadata": {
    "executionInfo": {
     "elapsed": 21146,
     "status": "ok",
     "timestamp": 1653982673632,
     "user": {
      "displayName": "Sahel Taherian",
      "userId": "08169290109466282224"
     },
     "user_tz": -120
    },
    "id": "d385093d-3e30-4a9c-ace4-ce9653eb67e3"
   },
   "outputs": [],
   "source": [
    "spark = (SparkSession\n",
    "         .builder.master('local[*]')\n",
    "         .appName('p8_aws')\n",
    "         .config('spark.hadoop.fs.s3a.access.key', Acces_key_ID)\n",
    "         .config('spark.hadoop.fs.s3a.secret.key', Secret_access_key) \n",
    "         .config('spark.hadoop.fs.s3a.impl',\n",
    "                 'org.apache.hadoop.fs.s3a.S3AFileSystem') \n",
    "         .config('spark.hadoop.fs.s3a.aws.credentials.provider','org.apache.hadoop.fs.s3a.SimpleAWSCredentialsProvider')\n",
    "         .getOrCreate())"
   ]
  },
  {
   "cell_type": "markdown",
   "id": "4a3e2d25-e0fe-49a0-889c-994e83686445",
   "metadata": {
    "id": "4a3e2d25-e0fe-49a0-889c-994e83686445"
   },
   "source": [
    "#### 1.3.2. Instancier SparkSession"
   ]
  },
  {
   "cell_type": "markdown",
   "id": "0b9b9f10-3433-4d1c-b4d9-c52caf527102",
   "metadata": {
    "id": "0b9b9f10-3433-4d1c-b4d9-c52caf527102"
   },
   "source": [
    "Un SparkContext gère les propriétés globales de l'application Spark telles que le niveau de logging, le niveau de parallélisation par défaut, etc."
   ]
  },
  {
   "cell_type": "code",
   "execution_count": 26,
   "id": "466ae38c-bdd3-4fdd-90f6-cb545934629f",
   "metadata": {
    "executionInfo": {
     "elapsed": 170,
     "status": "ok",
     "timestamp": 1653982687784,
     "user": {
      "displayName": "Sahel Taherian",
      "userId": "08169290109466282224"
     },
     "user_tz": -120
    },
    "id": "466ae38c-bdd3-4fdd-90f6-cb545934629f"
   },
   "outputs": [],
   "source": [
    "sc = spark.sparkContext\n",
    "sc.setSystemProperty('com.amazonaws.services.s3.enableV4', 'true')\n",
    "sc._jsc.hadoopConfiguration().set('fs.s3a.endpoint',\n",
    "                                  's3.eu-west-3.amazonaws.com')\n",
    "\n",
    "# Adjust logging level\n",
    "sc.setLogLevel('ERROR')"
   ]
  },
  {
   "cell_type": "markdown",
   "id": "9953c652-e48d-4538-9e49-368b93f6224f",
   "metadata": {
    "id": "9953c652-e48d-4538-9e49-368b93f6224f"
   },
   "source": [
    "#### 1.3.3. Activation de la conversion vers/depuis le pandas"
   ]
  },
  {
   "cell_type": "code",
   "execution_count": 27,
   "id": "eaedc3ce-9046-4fa8-a73d-c64d4c5afd26",
   "metadata": {
    "executionInfo": {
     "elapsed": 278,
     "status": "ok",
     "timestamp": 1653982693837,
     "user": {
      "displayName": "Sahel Taherian",
      "userId": "08169290109466282224"
     },
     "user_tz": -120
    },
    "id": "eaedc3ce-9046-4fa8-a73d-c64d4c5afd26"
   },
   "outputs": [],
   "source": [
    "spark.conf.set(\"spark.sql.execution.arrow.pyspark.enabled\", \"true\")"
   ]
  },
  {
   "cell_type": "markdown",
   "id": "9830a9e8-5e0a-4d6d-9711-d4fca60373dd",
   "metadata": {
    "id": "9830a9e8-5e0a-4d6d-9711-d4fca60373dd"
   },
   "source": [
    "#### 1.3.4. Afficher les informations de SparkSession"
   ]
  },
  {
   "cell_type": "code",
   "execution_count": 28,
   "id": "012f8fc6-d7fc-4e86-bd74-8f82ea47c3d1",
   "metadata": {
    "colab": {
     "base_uri": "https://localhost:8080/",
     "height": 197
    },
    "executionInfo": {
     "elapsed": 198,
     "status": "ok",
     "timestamp": 1653982697263,
     "user": {
      "displayName": "Sahel Taherian",
      "userId": "08169290109466282224"
     },
     "user_tz": -120
    },
    "id": "012f8fc6-d7fc-4e86-bd74-8f82ea47c3d1",
    "outputId": "5100b744-3d82-4ff5-aaa3-bbbb3ac59c12"
   },
   "outputs": [
    {
     "data": {
      "text/html": [
       "\n",
       "        <div>\n",
       "            <p><b>SparkContext</b></p>\n",
       "\n",
       "            <p><a href=\"http://95335784a12c:4040\">Spark UI</a></p>\n",
       "\n",
       "            <dl>\n",
       "              <dt>Version</dt>\n",
       "                <dd><code>v3.2.1</code></dd>\n",
       "              <dt>Master</dt>\n",
       "                <dd><code>local[*]</code></dd>\n",
       "              <dt>AppName</dt>\n",
       "                <dd><code>p8_aws</code></dd>\n",
       "            </dl>\n",
       "        </div>\n",
       "        "
      ],
      "text/plain": [
       "<SparkContext master=local[*] appName=p8_aws>"
      ]
     },
     "execution_count": 28,
     "metadata": {},
     "output_type": "execute_result"
    }
   ],
   "source": [
    "sc"
   ]
  },
  {
   "cell_type": "markdown",
   "id": "e98646e2-6bff-48af-9223-7aaf1b6b3edb",
   "metadata": {
    "id": "e98646e2-6bff-48af-9223-7aaf1b6b3edb",
    "tags": []
   },
   "source": [
    "### <span style='color:green '> 1.3. Importation des images dans un dataframe Spark</span>"
   ]
  },
  {
   "cell_type": "markdown",
   "id": "aaa5ac56-4428-4719-8d8f-6a0de3d5e6b8",
   "metadata": {},
   "source": [
    "Nous commençons par charger les images dans un Spark dataframe. Parmi les catégories des fruits dans le dossier Training, nous avons choisi 3 catégories pour en choisir un échantillon de 11 images ;"
   ]
  },
  {
   "cell_type": "code",
   "execution_count": 29,
   "id": "fe951a19-6c21-41d2-a15f-61d4ac13968d",
   "metadata": {
    "colab": {
     "base_uri": "https://localhost:8080/"
    },
    "executionInfo": {
     "elapsed": 40353,
     "status": "ok",
     "timestamp": 1653982741484,
     "user": {
      "displayName": "Sahel Taherian",
      "userId": "08169290109466282224"
     },
     "user_tz": -120
    },
    "id": "fe951a19-6c21-41d2-a15f-61d4ac13968d",
    "outputId": "8ac6c6ce-1830-4b41-8b77-b7b6f3a55f10"
   },
   "outputs": [
    {
     "name": "stdout",
     "output_type": "stream",
     "text": [
      "361\n",
      "root\n",
      " |-- path: string (nullable = true)\n",
      " |-- length: long (nullable = true)\n",
      " |-- content: binary (nullable = true)\n",
      "\n",
      "+--------------------+------+--------------------+\n",
      "|                path|length|             content|\n",
      "+--------------------+------+--------------------+\n",
      "|s3a://p8-sahelbuc...| 57004|[FF D8 FF E0 00 1...|\n",
      "|s3a://p8-sahelbuc...| 56710|[FF D8 FF E0 00 1...|\n",
      "|s3a://p8-sahelbuc...| 56484|[FF D8 FF E0 00 1...|\n",
      "|s3a://p8-sahelbuc...| 56237|[FF D8 FF E0 00 1...|\n",
      "|s3a://p8-sahelbuc...| 56079|[FF D8 FF E0 00 1...|\n",
      "|s3a://p8-sahelbuc...| 56026|[FF D8 FF E0 00 1...|\n",
      "|s3a://p8-sahelbuc...| 55992|[FF D8 FF E0 00 1...|\n",
      "|s3a://p8-sahelbuc...| 55981|[FF D8 FF E0 00 1...|\n",
      "|s3a://p8-sahelbuc...| 55796|[FF D8 FF E0 00 1...|\n",
      "|s3a://p8-sahelbuc...| 55691|[FF D8 FF E0 00 1...|\n",
      "+--------------------+------+--------------------+\n",
      "only showing top 10 rows\n",
      "\n"
     ]
    }
   ],
   "source": [
    "Path = 's3a://' + BUCKET_NAME + '/' + OBJECT_NAME + '*'\n",
    "images_df = spark.read.format(\n",
    "    'binaryFile').option(\n",
    "    'pathGlobFilter', '*.jpg').option(\n",
    "    'recursiveFileLookup', 'true').load(Path, inferschema=True)\n",
    "images_df = images_df.select('path', 'length', 'content')\n",
    "print(images_df.count())\n",
    "images_df.printSchema()\n",
    "images_df.show(10)"
   ]
  },
  {
   "cell_type": "markdown",
   "id": "9fbb368f-1ac0-4cce-89c7-19e170cf14ae",
   "metadata": {},
   "source": [
    "Nous avons ensuite sélectionné les colonnes pertinentes."
   ]
  },
  {
   "cell_type": "code",
   "execution_count": 30,
   "id": "8Kl8DLmuiIGx",
   "metadata": {
    "colab": {
     "base_uri": "https://localhost:8080/"
    },
    "executionInfo": {
     "elapsed": 6121,
     "status": "ok",
     "timestamp": 1653982758793,
     "user": {
      "displayName": "Sahel Taherian",
      "userId": "08169290109466282224"
     },
     "user_tz": -120
    },
    "id": "8Kl8DLmuiIGx",
    "outputId": "9702876c-1cc3-4e40-8843-316185a77aaf"
   },
   "outputs": [
    {
     "name": "stdout",
     "output_type": "stream",
     "text": [
      "+--------------------+--------------------+----------+\n",
      "|                path|             content|  category|\n",
      "+--------------------+--------------------+----------+\n",
      "|s3a://p8-sahelbuc...|[FF D8 FF E0 00 1...|cucumber_1|\n",
      "|s3a://p8-sahelbuc...|[FF D8 FF E0 00 1...|cucumber_1|\n",
      "|s3a://p8-sahelbuc...|[FF D8 FF E0 00 1...|cucumber_1|\n",
      "|s3a://p8-sahelbuc...|[FF D8 FF E0 00 1...|cucumber_1|\n",
      "|s3a://p8-sahelbuc...|[FF D8 FF E0 00 1...|cucumber_1|\n",
      "|s3a://p8-sahelbuc...|[FF D8 FF E0 00 1...|cucumber_1|\n",
      "|s3a://p8-sahelbuc...|[FF D8 FF E0 00 1...|cucumber_1|\n",
      "|s3a://p8-sahelbuc...|[FF D8 FF E0 00 1...|cucumber_1|\n",
      "|s3a://p8-sahelbuc...|[FF D8 FF E0 00 1...|cucumber_1|\n",
      "|s3a://p8-sahelbuc...|[FF D8 FF E0 00 1...|cucumber_1|\n",
      "+--------------------+--------------------+----------+\n",
      "only showing top 10 rows\n",
      "\n"
     ]
    }
   ],
   "source": [
    "images_df = images_df.withColumn(\n",
    "    'category', split(col('path'), '/').getItem(5))\n",
    "images_df = images_df.select('path', 'content', 'category')\n",
    "images_df.show(10)"
   ]
  },
  {
   "cell_type": "markdown",
   "id": "9ce0e2e8-4bdb-4021-bc95-e99f180c7506",
   "metadata": {},
   "source": [
    "Enfin, pour réduire la durée de traitement et les coûts de la construction de cette première version de l'architecture Big Data, nous sélectionnons un échantillon de 11 images."
   ]
  },
  {
   "cell_type": "code",
   "execution_count": 31,
   "id": "HOQirRh-e8U2",
   "metadata": {
    "colab": {
     "base_uri": "https://localhost:8080/"
    },
    "executionInfo": {
     "elapsed": 99739,
     "status": "ok",
     "timestamp": 1653982868770,
     "user": {
      "displayName": "Sahel Taherian",
      "userId": "08169290109466282224"
     },
     "user_tz": -120
    },
    "id": "HOQirRh-e8U2",
    "outputId": "3c4d4930-73a1-4729-b287-c944d962a27d"
   },
   "outputs": [
    {
     "name": "stdout",
     "output_type": "stream",
     "text": [
      "11\n",
      "root\n",
      " |-- path: string (nullable = true)\n",
      " |-- content: binary (nullable = true)\n",
      " |-- category: string (nullable = true)\n",
      "\n",
      "+--------------------+--------------------+-----------------+\n",
      "|                path|             content|         category|\n",
      "+--------------------+--------------------+-----------------+\n",
      "|s3a://p8-sahelbuc...|[FF D8 FF E0 00 1...|       cucumber_1|\n",
      "|s3a://p8-sahelbuc...|[FF D8 FF E0 00 1...|       cucumber_1|\n",
      "|s3a://p8-sahelbuc...|[FF D8 FF E0 00 1...|         carrot_1|\n",
      "|s3a://p8-sahelbuc...|[FF D8 FF E0 00 1...|         carrot_1|\n",
      "|s3a://p8-sahelbuc...|[FF D8 FF E0 00 1...|         carrot_1|\n",
      "|s3a://p8-sahelbuc...|[FF D8 FF E0 00 1...|eggplant_violet_1|\n",
      "|s3a://p8-sahelbuc...|[FF D8 FF E0 00 1...|eggplant_violet_1|\n",
      "|s3a://p8-sahelbuc...|[FF D8 FF E0 00 1...|eggplant_violet_1|\n",
      "|s3a://p8-sahelbuc...|[FF D8 FF E0 00 1...|eggplant_violet_1|\n",
      "|s3a://p8-sahelbuc...|[FF D8 FF E0 00 1...|eggplant_violet_1|\n",
      "|s3a://p8-sahelbuc...|[FF D8 FF E0 00 1...|eggplant_violet_1|\n",
      "+--------------------+--------------------+-----------------+\n",
      "\n"
     ]
    }
   ],
   "source": [
    "images_s = images_df.sample(withReplacement=False,\n",
    "                              fraction=0.02,\n",
    "                              seed=0)\n",
    "print(images_s.count())\n",
    "images_s.printSchema()\n",
    "images_s.show()"
   ]
  },
  {
   "cell_type": "markdown",
   "id": "a0a897a4-6703-48a7-813b-1ab770eaf00f",
   "metadata": {
    "id": "a0a897a4-6703-48a7-813b-1ab770eaf00f"
   },
   "source": [
    "### <span style='color:green '> 1.4.Extraction des features par le Transfer Learning</span>"
   ]
  },
  {
   "cell_type": "markdown",
   "id": "0a5bc409-3d5a-45f4-bc60-4d9935fb5cc4",
   "metadata": {
    "id": "0a5bc409-3d5a-45f4-bc60-4d9935fb5cc4"
   },
   "source": [
    "Nous allons procéder à l’extraction de features par le Transfer Learning. \n",
    "Le Transfer Learning consiste à utiliser des modèles de Deep Learning pré-entraînés sur un problème pour les exploiter sur un autre problème similaire.\n",
    "L’algorithme utilisé dans ce travail ,ResNet50, s’agit d’ un algorithme de type réseaux de neurones convolutifs (CNN), pré-entraîné sur ImageNet. \n",
    "Pour effectuer l'extraction de features, il faut retirer les dernières couches fully-connected en configurant le paramètre include_top à False.\n"
   ]
  },
  {
   "cell_type": "code",
   "execution_count": 32,
   "id": "8da3fc5a-b583-449a-b0d2-1a83ecfb0d11",
   "metadata": {
    "colab": {
     "base_uri": "https://localhost:8080/"
    },
    "executionInfo": {
     "elapsed": 15192,
     "status": "ok",
     "timestamp": 1653983471998,
     "user": {
      "displayName": "Sahel Taherian",
      "userId": "08169290109466282224"
     },
     "user_tz": -120
    },
    "id": "8da3fc5a-b583-449a-b0d2-1a83ecfb0d11",
    "outputId": "8913b1f7-592b-43a5-ae0f-bb93789eb400"
   },
   "outputs": [
    {
     "name": "stdout",
     "output_type": "stream",
     "text": [
      "Downloading data from https://storage.googleapis.com/tensorflow/keras-applications/resnet/resnet50_weights_tf_dim_ordering_tf_kernels_notop.h5\n",
      "94773248/94765736 [==============================] - 4s 0us/step\n",
      "94781440/94765736 [==============================] - 4s 0us/step\n",
      "Model: \"resnet50\"\n",
      "__________________________________________________________________________________________________\n",
      " Layer (type)                   Output Shape         Param #     Connected to                     \n",
      "==================================================================================================\n",
      " input_1 (InputLayer)           [(None, 224, 224, 3  0           []                               \n",
      "                                )]                                                                \n",
      "                                                                                                  \n",
      " conv1_pad (ZeroPadding2D)      (None, 230, 230, 3)  0           ['input_1[0][0]']                \n",
      "                                                                                                  \n",
      " conv1_conv (Conv2D)            (None, 112, 112, 64  9472        ['conv1_pad[0][0]']              \n",
      "                                )                                                                 \n",
      "                                                                                                  \n",
      " conv1_bn (BatchNormalization)  (None, 112, 112, 64  256         ['conv1_conv[0][0]']             \n",
      "                                )                                                                 \n",
      "                                                                                                  \n",
      " conv1_relu (Activation)        (None, 112, 112, 64  0           ['conv1_bn[0][0]']               \n",
      "                                )                                                                 \n",
      "                                                                                                  \n",
      " pool1_pad (ZeroPadding2D)      (None, 114, 114, 64  0           ['conv1_relu[0][0]']             \n",
      "                                )                                                                 \n",
      "                                                                                                  \n",
      " pool1_pool (MaxPooling2D)      (None, 56, 56, 64)   0           ['pool1_pad[0][0]']              \n",
      "                                                                                                  \n",
      " conv2_block1_1_conv (Conv2D)   (None, 56, 56, 64)   4160        ['pool1_pool[0][0]']             \n",
      "                                                                                                  \n",
      " conv2_block1_1_bn (BatchNormal  (None, 56, 56, 64)  256         ['conv2_block1_1_conv[0][0]']    \n",
      " ization)                                                                                         \n",
      "                                                                                                  \n",
      " conv2_block1_1_relu (Activatio  (None, 56, 56, 64)  0           ['conv2_block1_1_bn[0][0]']      \n",
      " n)                                                                                               \n",
      "                                                                                                  \n",
      " conv2_block1_2_conv (Conv2D)   (None, 56, 56, 64)   36928       ['conv2_block1_1_relu[0][0]']    \n",
      "                                                                                                  \n",
      " conv2_block1_2_bn (BatchNormal  (None, 56, 56, 64)  256         ['conv2_block1_2_conv[0][0]']    \n",
      " ization)                                                                                         \n",
      "                                                                                                  \n",
      " conv2_block1_2_relu (Activatio  (None, 56, 56, 64)  0           ['conv2_block1_2_bn[0][0]']      \n",
      " n)                                                                                               \n",
      "                                                                                                  \n",
      " conv2_block1_0_conv (Conv2D)   (None, 56, 56, 256)  16640       ['pool1_pool[0][0]']             \n",
      "                                                                                                  \n",
      " conv2_block1_3_conv (Conv2D)   (None, 56, 56, 256)  16640       ['conv2_block1_2_relu[0][0]']    \n",
      "                                                                                                  \n",
      " conv2_block1_0_bn (BatchNormal  (None, 56, 56, 256)  1024       ['conv2_block1_0_conv[0][0]']    \n",
      " ization)                                                                                         \n",
      "                                                                                                  \n",
      " conv2_block1_3_bn (BatchNormal  (None, 56, 56, 256)  1024       ['conv2_block1_3_conv[0][0]']    \n",
      " ization)                                                                                         \n",
      "                                                                                                  \n",
      " conv2_block1_add (Add)         (None, 56, 56, 256)  0           ['conv2_block1_0_bn[0][0]',      \n",
      "                                                                  'conv2_block1_3_bn[0][0]']      \n",
      "                                                                                                  \n",
      " conv2_block1_out (Activation)  (None, 56, 56, 256)  0           ['conv2_block1_add[0][0]']       \n",
      "                                                                                                  \n",
      " conv2_block2_1_conv (Conv2D)   (None, 56, 56, 64)   16448       ['conv2_block1_out[0][0]']       \n",
      "                                                                                                  \n",
      " conv2_block2_1_bn (BatchNormal  (None, 56, 56, 64)  256         ['conv2_block2_1_conv[0][0]']    \n",
      " ization)                                                                                         \n",
      "                                                                                                  \n",
      " conv2_block2_1_relu (Activatio  (None, 56, 56, 64)  0           ['conv2_block2_1_bn[0][0]']      \n",
      " n)                                                                                               \n",
      "                                                                                                  \n",
      " conv2_block2_2_conv (Conv2D)   (None, 56, 56, 64)   36928       ['conv2_block2_1_relu[0][0]']    \n",
      "                                                                                                  \n",
      " conv2_block2_2_bn (BatchNormal  (None, 56, 56, 64)  256         ['conv2_block2_2_conv[0][0]']    \n",
      " ization)                                                                                         \n",
      "                                                                                                  \n",
      " conv2_block2_2_relu (Activatio  (None, 56, 56, 64)  0           ['conv2_block2_2_bn[0][0]']      \n",
      " n)                                                                                               \n",
      "                                                                                                  \n",
      " conv2_block2_3_conv (Conv2D)   (None, 56, 56, 256)  16640       ['conv2_block2_2_relu[0][0]']    \n",
      "                                                                                                  \n",
      " conv2_block2_3_bn (BatchNormal  (None, 56, 56, 256)  1024       ['conv2_block2_3_conv[0][0]']    \n",
      " ization)                                                                                         \n",
      "                                                                                                  \n",
      " conv2_block2_add (Add)         (None, 56, 56, 256)  0           ['conv2_block1_out[0][0]',       \n",
      "                                                                  'conv2_block2_3_bn[0][0]']      \n",
      "                                                                                                  \n",
      " conv2_block2_out (Activation)  (None, 56, 56, 256)  0           ['conv2_block2_add[0][0]']       \n",
      "                                                                                                  \n",
      " conv2_block3_1_conv (Conv2D)   (None, 56, 56, 64)   16448       ['conv2_block2_out[0][0]']       \n",
      "                                                                                                  \n",
      " conv2_block3_1_bn (BatchNormal  (None, 56, 56, 64)  256         ['conv2_block3_1_conv[0][0]']    \n",
      " ization)                                                                                         \n",
      "                                                                                                  \n",
      " conv2_block3_1_relu (Activatio  (None, 56, 56, 64)  0           ['conv2_block3_1_bn[0][0]']      \n",
      " n)                                                                                               \n",
      "                                                                                                  \n",
      " conv2_block3_2_conv (Conv2D)   (None, 56, 56, 64)   36928       ['conv2_block3_1_relu[0][0]']    \n",
      "                                                                                                  \n",
      " conv2_block3_2_bn (BatchNormal  (None, 56, 56, 64)  256         ['conv2_block3_2_conv[0][0]']    \n",
      " ization)                                                                                         \n",
      "                                                                                                  \n",
      " conv2_block3_2_relu (Activatio  (None, 56, 56, 64)  0           ['conv2_block3_2_bn[0][0]']      \n",
      " n)                                                                                               \n",
      "                                                                                                  \n",
      " conv2_block3_3_conv (Conv2D)   (None, 56, 56, 256)  16640       ['conv2_block3_2_relu[0][0]']    \n",
      "                                                                                                  \n",
      " conv2_block3_3_bn (BatchNormal  (None, 56, 56, 256)  1024       ['conv2_block3_3_conv[0][0]']    \n",
      " ization)                                                                                         \n",
      "                                                                                                  \n",
      " conv2_block3_add (Add)         (None, 56, 56, 256)  0           ['conv2_block2_out[0][0]',       \n",
      "                                                                  'conv2_block3_3_bn[0][0]']      \n",
      "                                                                                                  \n",
      " conv2_block3_out (Activation)  (None, 56, 56, 256)  0           ['conv2_block3_add[0][0]']       \n",
      "                                                                                                  \n",
      " conv3_block1_1_conv (Conv2D)   (None, 28, 28, 128)  32896       ['conv2_block3_out[0][0]']       \n",
      "                                                                                                  \n",
      " conv3_block1_1_bn (BatchNormal  (None, 28, 28, 128)  512        ['conv3_block1_1_conv[0][0]']    \n",
      " ization)                                                                                         \n",
      "                                                                                                  \n",
      " conv3_block1_1_relu (Activatio  (None, 28, 28, 128)  0          ['conv3_block1_1_bn[0][0]']      \n",
      " n)                                                                                               \n",
      "                                                                                                  \n",
      " conv3_block1_2_conv (Conv2D)   (None, 28, 28, 128)  147584      ['conv3_block1_1_relu[0][0]']    \n",
      "                                                                                                  \n",
      " conv3_block1_2_bn (BatchNormal  (None, 28, 28, 128)  512        ['conv3_block1_2_conv[0][0]']    \n",
      " ization)                                                                                         \n",
      "                                                                                                  \n",
      " conv3_block1_2_relu (Activatio  (None, 28, 28, 128)  0          ['conv3_block1_2_bn[0][0]']      \n",
      " n)                                                                                               \n",
      "                                                                                                  \n",
      " conv3_block1_0_conv (Conv2D)   (None, 28, 28, 512)  131584      ['conv2_block3_out[0][0]']       \n",
      "                                                                                                  \n",
      " conv3_block1_3_conv (Conv2D)   (None, 28, 28, 512)  66048       ['conv3_block1_2_relu[0][0]']    \n",
      "                                                                                                  \n",
      " conv3_block1_0_bn (BatchNormal  (None, 28, 28, 512)  2048       ['conv3_block1_0_conv[0][0]']    \n",
      " ization)                                                                                         \n",
      "                                                                                                  \n",
      " conv3_block1_3_bn (BatchNormal  (None, 28, 28, 512)  2048       ['conv3_block1_3_conv[0][0]']    \n",
      " ization)                                                                                         \n",
      "                                                                                                  \n",
      " conv3_block1_add (Add)         (None, 28, 28, 512)  0           ['conv3_block1_0_bn[0][0]',      \n",
      "                                                                  'conv3_block1_3_bn[0][0]']      \n",
      "                                                                                                  \n",
      " conv3_block1_out (Activation)  (None, 28, 28, 512)  0           ['conv3_block1_add[0][0]']       \n",
      "                                                                                                  \n",
      " conv3_block2_1_conv (Conv2D)   (None, 28, 28, 128)  65664       ['conv3_block1_out[0][0]']       \n",
      "                                                                                                  \n",
      " conv3_block2_1_bn (BatchNormal  (None, 28, 28, 128)  512        ['conv3_block2_1_conv[0][0]']    \n",
      " ization)                                                                                         \n",
      "                                                                                                  \n",
      " conv3_block2_1_relu (Activatio  (None, 28, 28, 128)  0          ['conv3_block2_1_bn[0][0]']      \n",
      " n)                                                                                               \n",
      "                                                                                                  \n",
      " conv3_block2_2_conv (Conv2D)   (None, 28, 28, 128)  147584      ['conv3_block2_1_relu[0][0]']    \n",
      "                                                                                                  \n",
      " conv3_block2_2_bn (BatchNormal  (None, 28, 28, 128)  512        ['conv3_block2_2_conv[0][0]']    \n",
      " ization)                                                                                         \n",
      "                                                                                                  \n",
      " conv3_block2_2_relu (Activatio  (None, 28, 28, 128)  0          ['conv3_block2_2_bn[0][0]']      \n",
      " n)                                                                                               \n",
      "                                                                                                  \n",
      " conv3_block2_3_conv (Conv2D)   (None, 28, 28, 512)  66048       ['conv3_block2_2_relu[0][0]']    \n",
      "                                                                                                  \n",
      " conv3_block2_3_bn (BatchNormal  (None, 28, 28, 512)  2048       ['conv3_block2_3_conv[0][0]']    \n",
      " ization)                                                                                         \n",
      "                                                                                                  \n",
      " conv3_block2_add (Add)         (None, 28, 28, 512)  0           ['conv3_block1_out[0][0]',       \n",
      "                                                                  'conv3_block2_3_bn[0][0]']      \n",
      "                                                                                                  \n",
      " conv3_block2_out (Activation)  (None, 28, 28, 512)  0           ['conv3_block2_add[0][0]']       \n",
      "                                                                                                  \n",
      " conv3_block3_1_conv (Conv2D)   (None, 28, 28, 128)  65664       ['conv3_block2_out[0][0]']       \n",
      "                                                                                                  \n",
      " conv3_block3_1_bn (BatchNormal  (None, 28, 28, 128)  512        ['conv3_block3_1_conv[0][0]']    \n",
      " ization)                                                                                         \n",
      "                                                                                                  \n",
      " conv3_block3_1_relu (Activatio  (None, 28, 28, 128)  0          ['conv3_block3_1_bn[0][0]']      \n",
      " n)                                                                                               \n",
      "                                                                                                  \n",
      " conv3_block3_2_conv (Conv2D)   (None, 28, 28, 128)  147584      ['conv3_block3_1_relu[0][0]']    \n",
      "                                                                                                  \n",
      " conv3_block3_2_bn (BatchNormal  (None, 28, 28, 128)  512        ['conv3_block3_2_conv[0][0]']    \n",
      " ization)                                                                                         \n",
      "                                                                                                  \n",
      " conv3_block3_2_relu (Activatio  (None, 28, 28, 128)  0          ['conv3_block3_2_bn[0][0]']      \n",
      " n)                                                                                               \n",
      "                                                                                                  \n",
      " conv3_block3_3_conv (Conv2D)   (None, 28, 28, 512)  66048       ['conv3_block3_2_relu[0][0]']    \n",
      "                                                                                                  \n",
      " conv3_block3_3_bn (BatchNormal  (None, 28, 28, 512)  2048       ['conv3_block3_3_conv[0][0]']    \n",
      " ization)                                                                                         \n",
      "                                                                                                  \n",
      " conv3_block3_add (Add)         (None, 28, 28, 512)  0           ['conv3_block2_out[0][0]',       \n",
      "                                                                  'conv3_block3_3_bn[0][0]']      \n",
      "                                                                                                  \n",
      " conv3_block3_out (Activation)  (None, 28, 28, 512)  0           ['conv3_block3_add[0][0]']       \n",
      "                                                                                                  \n",
      " conv3_block4_1_conv (Conv2D)   (None, 28, 28, 128)  65664       ['conv3_block3_out[0][0]']       \n",
      "                                                                                                  \n",
      " conv3_block4_1_bn (BatchNormal  (None, 28, 28, 128)  512        ['conv3_block4_1_conv[0][0]']    \n",
      " ization)                                                                                         \n",
      "                                                                                                  \n",
      " conv3_block4_1_relu (Activatio  (None, 28, 28, 128)  0          ['conv3_block4_1_bn[0][0]']      \n",
      " n)                                                                                               \n",
      "                                                                                                  \n",
      " conv3_block4_2_conv (Conv2D)   (None, 28, 28, 128)  147584      ['conv3_block4_1_relu[0][0]']    \n",
      "                                                                                                  \n",
      " conv3_block4_2_bn (BatchNormal  (None, 28, 28, 128)  512        ['conv3_block4_2_conv[0][0]']    \n",
      " ization)                                                                                         \n",
      "                                                                                                  \n",
      " conv3_block4_2_relu (Activatio  (None, 28, 28, 128)  0          ['conv3_block4_2_bn[0][0]']      \n",
      " n)                                                                                               \n",
      "                                                                                                  \n",
      " conv3_block4_3_conv (Conv2D)   (None, 28, 28, 512)  66048       ['conv3_block4_2_relu[0][0]']    \n",
      "                                                                                                  \n",
      " conv3_block4_3_bn (BatchNormal  (None, 28, 28, 512)  2048       ['conv3_block4_3_conv[0][0]']    \n",
      " ization)                                                                                         \n",
      "                                                                                                  \n",
      " conv3_block4_add (Add)         (None, 28, 28, 512)  0           ['conv3_block3_out[0][0]',       \n",
      "                                                                  'conv3_block4_3_bn[0][0]']      \n",
      "                                                                                                  \n",
      " conv3_block4_out (Activation)  (None, 28, 28, 512)  0           ['conv3_block4_add[0][0]']       \n",
      "                                                                                                  \n",
      " conv4_block1_1_conv (Conv2D)   (None, 14, 14, 256)  131328      ['conv3_block4_out[0][0]']       \n",
      "                                                                                                  \n",
      " conv4_block1_1_bn (BatchNormal  (None, 14, 14, 256)  1024       ['conv4_block1_1_conv[0][0]']    \n",
      " ization)                                                                                         \n",
      "                                                                                                  \n",
      " conv4_block1_1_relu (Activatio  (None, 14, 14, 256)  0          ['conv4_block1_1_bn[0][0]']      \n",
      " n)                                                                                               \n",
      "                                                                                                  \n",
      " conv4_block1_2_conv (Conv2D)   (None, 14, 14, 256)  590080      ['conv4_block1_1_relu[0][0]']    \n",
      "                                                                                                  \n",
      " conv4_block1_2_bn (BatchNormal  (None, 14, 14, 256)  1024       ['conv4_block1_2_conv[0][0]']    \n",
      " ization)                                                                                         \n",
      "                                                                                                  \n",
      " conv4_block1_2_relu (Activatio  (None, 14, 14, 256)  0          ['conv4_block1_2_bn[0][0]']      \n",
      " n)                                                                                               \n",
      "                                                                                                  \n",
      " conv4_block1_0_conv (Conv2D)   (None, 14, 14, 1024  525312      ['conv3_block4_out[0][0]']       \n",
      "                                )                                                                 \n",
      "                                                                                                  \n",
      " conv4_block1_3_conv (Conv2D)   (None, 14, 14, 1024  263168      ['conv4_block1_2_relu[0][0]']    \n",
      "                                )                                                                 \n",
      "                                                                                                  \n",
      " conv4_block1_0_bn (BatchNormal  (None, 14, 14, 1024  4096       ['conv4_block1_0_conv[0][0]']    \n",
      " ization)                       )                                                                 \n",
      "                                                                                                  \n",
      " conv4_block1_3_bn (BatchNormal  (None, 14, 14, 1024  4096       ['conv4_block1_3_conv[0][0]']    \n",
      " ization)                       )                                                                 \n",
      "                                                                                                  \n",
      " conv4_block1_add (Add)         (None, 14, 14, 1024  0           ['conv4_block1_0_bn[0][0]',      \n",
      "                                )                                 'conv4_block1_3_bn[0][0]']      \n",
      "                                                                                                  \n",
      " conv4_block1_out (Activation)  (None, 14, 14, 1024  0           ['conv4_block1_add[0][0]']       \n",
      "                                )                                                                 \n",
      "                                                                                                  \n",
      " conv4_block2_1_conv (Conv2D)   (None, 14, 14, 256)  262400      ['conv4_block1_out[0][0]']       \n",
      "                                                                                                  \n",
      " conv4_block2_1_bn (BatchNormal  (None, 14, 14, 256)  1024       ['conv4_block2_1_conv[0][0]']    \n",
      " ization)                                                                                         \n",
      "                                                                                                  \n",
      " conv4_block2_1_relu (Activatio  (None, 14, 14, 256)  0          ['conv4_block2_1_bn[0][0]']      \n",
      " n)                                                                                               \n",
      "                                                                                                  \n",
      " conv4_block2_2_conv (Conv2D)   (None, 14, 14, 256)  590080      ['conv4_block2_1_relu[0][0]']    \n",
      "                                                                                                  \n",
      " conv4_block2_2_bn (BatchNormal  (None, 14, 14, 256)  1024       ['conv4_block2_2_conv[0][0]']    \n",
      " ization)                                                                                         \n",
      "                                                                                                  \n",
      " conv4_block2_2_relu (Activatio  (None, 14, 14, 256)  0          ['conv4_block2_2_bn[0][0]']      \n",
      " n)                                                                                               \n",
      "                                                                                                  \n",
      " conv4_block2_3_conv (Conv2D)   (None, 14, 14, 1024  263168      ['conv4_block2_2_relu[0][0]']    \n",
      "                                )                                                                 \n",
      "                                                                                                  \n",
      " conv4_block2_3_bn (BatchNormal  (None, 14, 14, 1024  4096       ['conv4_block2_3_conv[0][0]']    \n",
      " ization)                       )                                                                 \n",
      "                                                                                                  \n",
      " conv4_block2_add (Add)         (None, 14, 14, 1024  0           ['conv4_block1_out[0][0]',       \n",
      "                                )                                 'conv4_block2_3_bn[0][0]']      \n",
      "                                                                                                  \n",
      " conv4_block2_out (Activation)  (None, 14, 14, 1024  0           ['conv4_block2_add[0][0]']       \n",
      "                                )                                                                 \n",
      "                                                                                                  \n",
      " conv4_block3_1_conv (Conv2D)   (None, 14, 14, 256)  262400      ['conv4_block2_out[0][0]']       \n",
      "                                                                                                  \n",
      " conv4_block3_1_bn (BatchNormal  (None, 14, 14, 256)  1024       ['conv4_block3_1_conv[0][0]']    \n",
      " ization)                                                                                         \n",
      "                                                                                                  \n",
      " conv4_block3_1_relu (Activatio  (None, 14, 14, 256)  0          ['conv4_block3_1_bn[0][0]']      \n",
      " n)                                                                                               \n",
      "                                                                                                  \n",
      " conv4_block3_2_conv (Conv2D)   (None, 14, 14, 256)  590080      ['conv4_block3_1_relu[0][0]']    \n",
      "                                                                                                  \n",
      " conv4_block3_2_bn (BatchNormal  (None, 14, 14, 256)  1024       ['conv4_block3_2_conv[0][0]']    \n",
      " ization)                                                                                         \n",
      "                                                                                                  \n",
      " conv4_block3_2_relu (Activatio  (None, 14, 14, 256)  0          ['conv4_block3_2_bn[0][0]']      \n",
      " n)                                                                                               \n",
      "                                                                                                  \n",
      " conv4_block3_3_conv (Conv2D)   (None, 14, 14, 1024  263168      ['conv4_block3_2_relu[0][0]']    \n",
      "                                )                                                                 \n",
      "                                                                                                  \n",
      " conv4_block3_3_bn (BatchNormal  (None, 14, 14, 1024  4096       ['conv4_block3_3_conv[0][0]']    \n",
      " ization)                       )                                                                 \n",
      "                                                                                                  \n",
      " conv4_block3_add (Add)         (None, 14, 14, 1024  0           ['conv4_block2_out[0][0]',       \n",
      "                                )                                 'conv4_block3_3_bn[0][0]']      \n",
      "                                                                                                  \n",
      " conv4_block3_out (Activation)  (None, 14, 14, 1024  0           ['conv4_block3_add[0][0]']       \n",
      "                                )                                                                 \n",
      "                                                                                                  \n",
      " conv4_block4_1_conv (Conv2D)   (None, 14, 14, 256)  262400      ['conv4_block3_out[0][0]']       \n",
      "                                                                                                  \n",
      " conv4_block4_1_bn (BatchNormal  (None, 14, 14, 256)  1024       ['conv4_block4_1_conv[0][0]']    \n",
      " ization)                                                                                         \n",
      "                                                                                                  \n",
      " conv4_block4_1_relu (Activatio  (None, 14, 14, 256)  0          ['conv4_block4_1_bn[0][0]']      \n",
      " n)                                                                                               \n",
      "                                                                                                  \n",
      " conv4_block4_2_conv (Conv2D)   (None, 14, 14, 256)  590080      ['conv4_block4_1_relu[0][0]']    \n",
      "                                                                                                  \n",
      " conv4_block4_2_bn (BatchNormal  (None, 14, 14, 256)  1024       ['conv4_block4_2_conv[0][0]']    \n",
      " ization)                                                                                         \n",
      "                                                                                                  \n",
      " conv4_block4_2_relu (Activatio  (None, 14, 14, 256)  0          ['conv4_block4_2_bn[0][0]']      \n",
      " n)                                                                                               \n",
      "                                                                                                  \n",
      " conv4_block4_3_conv (Conv2D)   (None, 14, 14, 1024  263168      ['conv4_block4_2_relu[0][0]']    \n",
      "                                )                                                                 \n",
      "                                                                                                  \n",
      " conv4_block4_3_bn (BatchNormal  (None, 14, 14, 1024  4096       ['conv4_block4_3_conv[0][0]']    \n",
      " ization)                       )                                                                 \n",
      "                                                                                                  \n",
      " conv4_block4_add (Add)         (None, 14, 14, 1024  0           ['conv4_block3_out[0][0]',       \n",
      "                                )                                 'conv4_block4_3_bn[0][0]']      \n",
      "                                                                                                  \n",
      " conv4_block4_out (Activation)  (None, 14, 14, 1024  0           ['conv4_block4_add[0][0]']       \n",
      "                                )                                                                 \n",
      "                                                                                                  \n",
      " conv4_block5_1_conv (Conv2D)   (None, 14, 14, 256)  262400      ['conv4_block4_out[0][0]']       \n",
      "                                                                                                  \n",
      " conv4_block5_1_bn (BatchNormal  (None, 14, 14, 256)  1024       ['conv4_block5_1_conv[0][0]']    \n",
      " ization)                                                                                         \n",
      "                                                                                                  \n",
      " conv4_block5_1_relu (Activatio  (None, 14, 14, 256)  0          ['conv4_block5_1_bn[0][0]']      \n",
      " n)                                                                                               \n",
      "                                                                                                  \n",
      " conv4_block5_2_conv (Conv2D)   (None, 14, 14, 256)  590080      ['conv4_block5_1_relu[0][0]']    \n",
      "                                                                                                  \n",
      " conv4_block5_2_bn (BatchNormal  (None, 14, 14, 256)  1024       ['conv4_block5_2_conv[0][0]']    \n",
      " ization)                                                                                         \n",
      "                                                                                                  \n",
      " conv4_block5_2_relu (Activatio  (None, 14, 14, 256)  0          ['conv4_block5_2_bn[0][0]']      \n",
      " n)                                                                                               \n",
      "                                                                                                  \n",
      " conv4_block5_3_conv (Conv2D)   (None, 14, 14, 1024  263168      ['conv4_block5_2_relu[0][0]']    \n",
      "                                )                                                                 \n",
      "                                                                                                  \n",
      " conv4_block5_3_bn (BatchNormal  (None, 14, 14, 1024  4096       ['conv4_block5_3_conv[0][0]']    \n",
      " ization)                       )                                                                 \n",
      "                                                                                                  \n",
      " conv4_block5_add (Add)         (None, 14, 14, 1024  0           ['conv4_block4_out[0][0]',       \n",
      "                                )                                 'conv4_block5_3_bn[0][0]']      \n",
      "                                                                                                  \n",
      " conv4_block5_out (Activation)  (None, 14, 14, 1024  0           ['conv4_block5_add[0][0]']       \n",
      "                                )                                                                 \n",
      "                                                                                                  \n",
      " conv4_block6_1_conv (Conv2D)   (None, 14, 14, 256)  262400      ['conv4_block5_out[0][0]']       \n",
      "                                                                                                  \n",
      " conv4_block6_1_bn (BatchNormal  (None, 14, 14, 256)  1024       ['conv4_block6_1_conv[0][0]']    \n",
      " ization)                                                                                         \n",
      "                                                                                                  \n",
      " conv4_block6_1_relu (Activatio  (None, 14, 14, 256)  0          ['conv4_block6_1_bn[0][0]']      \n",
      " n)                                                                                               \n",
      "                                                                                                  \n",
      " conv4_block6_2_conv (Conv2D)   (None, 14, 14, 256)  590080      ['conv4_block6_1_relu[0][0]']    \n",
      "                                                                                                  \n",
      " conv4_block6_2_bn (BatchNormal  (None, 14, 14, 256)  1024       ['conv4_block6_2_conv[0][0]']    \n",
      " ization)                                                                                         \n",
      "                                                                                                  \n",
      " conv4_block6_2_relu (Activatio  (None, 14, 14, 256)  0          ['conv4_block6_2_bn[0][0]']      \n",
      " n)                                                                                               \n",
      "                                                                                                  \n",
      " conv4_block6_3_conv (Conv2D)   (None, 14, 14, 1024  263168      ['conv4_block6_2_relu[0][0]']    \n",
      "                                )                                                                 \n",
      "                                                                                                  \n",
      " conv4_block6_3_bn (BatchNormal  (None, 14, 14, 1024  4096       ['conv4_block6_3_conv[0][0]']    \n",
      " ization)                       )                                                                 \n",
      "                                                                                                  \n",
      " conv4_block6_add (Add)         (None, 14, 14, 1024  0           ['conv4_block5_out[0][0]',       \n",
      "                                )                                 'conv4_block6_3_bn[0][0]']      \n",
      "                                                                                                  \n",
      " conv4_block6_out (Activation)  (None, 14, 14, 1024  0           ['conv4_block6_add[0][0]']       \n",
      "                                )                                                                 \n",
      "                                                                                                  \n",
      " conv5_block1_1_conv (Conv2D)   (None, 7, 7, 512)    524800      ['conv4_block6_out[0][0]']       \n",
      "                                                                                                  \n",
      " conv5_block1_1_bn (BatchNormal  (None, 7, 7, 512)   2048        ['conv5_block1_1_conv[0][0]']    \n",
      " ization)                                                                                         \n",
      "                                                                                                  \n",
      " conv5_block1_1_relu (Activatio  (None, 7, 7, 512)   0           ['conv5_block1_1_bn[0][0]']      \n",
      " n)                                                                                               \n",
      "                                                                                                  \n",
      " conv5_block1_2_conv (Conv2D)   (None, 7, 7, 512)    2359808     ['conv5_block1_1_relu[0][0]']    \n",
      "                                                                                                  \n",
      " conv5_block1_2_bn (BatchNormal  (None, 7, 7, 512)   2048        ['conv5_block1_2_conv[0][0]']    \n",
      " ization)                                                                                         \n",
      "                                                                                                  \n",
      " conv5_block1_2_relu (Activatio  (None, 7, 7, 512)   0           ['conv5_block1_2_bn[0][0]']      \n",
      " n)                                                                                               \n",
      "                                                                                                  \n",
      " conv5_block1_0_conv (Conv2D)   (None, 7, 7, 2048)   2099200     ['conv4_block6_out[0][0]']       \n",
      "                                                                                                  \n",
      " conv5_block1_3_conv (Conv2D)   (None, 7, 7, 2048)   1050624     ['conv5_block1_2_relu[0][0]']    \n",
      "                                                                                                  \n",
      " conv5_block1_0_bn (BatchNormal  (None, 7, 7, 2048)  8192        ['conv5_block1_0_conv[0][0]']    \n",
      " ization)                                                                                         \n",
      "                                                                                                  \n",
      " conv5_block1_3_bn (BatchNormal  (None, 7, 7, 2048)  8192        ['conv5_block1_3_conv[0][0]']    \n",
      " ization)                                                                                         \n",
      "                                                                                                  \n",
      " conv5_block1_add (Add)         (None, 7, 7, 2048)   0           ['conv5_block1_0_bn[0][0]',      \n",
      "                                                                  'conv5_block1_3_bn[0][0]']      \n",
      "                                                                                                  \n",
      " conv5_block1_out (Activation)  (None, 7, 7, 2048)   0           ['conv5_block1_add[0][0]']       \n",
      "                                                                                                  \n",
      " conv5_block2_1_conv (Conv2D)   (None, 7, 7, 512)    1049088     ['conv5_block1_out[0][0]']       \n",
      "                                                                                                  \n",
      " conv5_block2_1_bn (BatchNormal  (None, 7, 7, 512)   2048        ['conv5_block2_1_conv[0][0]']    \n",
      " ization)                                                                                         \n",
      "                                                                                                  \n",
      " conv5_block2_1_relu (Activatio  (None, 7, 7, 512)   0           ['conv5_block2_1_bn[0][0]']      \n",
      " n)                                                                                               \n",
      "                                                                                                  \n",
      " conv5_block2_2_conv (Conv2D)   (None, 7, 7, 512)    2359808     ['conv5_block2_1_relu[0][0]']    \n",
      "                                                                                                  \n",
      " conv5_block2_2_bn (BatchNormal  (None, 7, 7, 512)   2048        ['conv5_block2_2_conv[0][0]']    \n",
      " ization)                                                                                         \n",
      "                                                                                                  \n",
      " conv5_block2_2_relu (Activatio  (None, 7, 7, 512)   0           ['conv5_block2_2_bn[0][0]']      \n",
      " n)                                                                                               \n",
      "                                                                                                  \n",
      " conv5_block2_3_conv (Conv2D)   (None, 7, 7, 2048)   1050624     ['conv5_block2_2_relu[0][0]']    \n",
      "                                                                                                  \n",
      " conv5_block2_3_bn (BatchNormal  (None, 7, 7, 2048)  8192        ['conv5_block2_3_conv[0][0]']    \n",
      " ization)                                                                                         \n",
      "                                                                                                  \n",
      " conv5_block2_add (Add)         (None, 7, 7, 2048)   0           ['conv5_block1_out[0][0]',       \n",
      "                                                                  'conv5_block2_3_bn[0][0]']      \n",
      "                                                                                                  \n",
      " conv5_block2_out (Activation)  (None, 7, 7, 2048)   0           ['conv5_block2_add[0][0]']       \n",
      "                                                                                                  \n",
      " conv5_block3_1_conv (Conv2D)   (None, 7, 7, 512)    1049088     ['conv5_block2_out[0][0]']       \n",
      "                                                                                                  \n",
      " conv5_block3_1_bn (BatchNormal  (None, 7, 7, 512)   2048        ['conv5_block3_1_conv[0][0]']    \n",
      " ization)                                                                                         \n",
      "                                                                                                  \n",
      " conv5_block3_1_relu (Activatio  (None, 7, 7, 512)   0           ['conv5_block3_1_bn[0][0]']      \n",
      " n)                                                                                               \n",
      "                                                                                                  \n",
      " conv5_block3_2_conv (Conv2D)   (None, 7, 7, 512)    2359808     ['conv5_block3_1_relu[0][0]']    \n",
      "                                                                                                  \n",
      " conv5_block3_2_bn (BatchNormal  (None, 7, 7, 512)   2048        ['conv5_block3_2_conv[0][0]']    \n",
      " ization)                                                                                         \n",
      "                                                                                                  \n",
      " conv5_block3_2_relu (Activatio  (None, 7, 7, 512)   0           ['conv5_block3_2_bn[0][0]']      \n",
      " n)                                                                                               \n",
      "                                                                                                  \n",
      " conv5_block3_3_conv (Conv2D)   (None, 7, 7, 2048)   1050624     ['conv5_block3_2_relu[0][0]']    \n",
      "                                                                                                  \n",
      " conv5_block3_3_bn (BatchNormal  (None, 7, 7, 2048)  8192        ['conv5_block3_3_conv[0][0]']    \n",
      " ization)                                                                                         \n",
      "                                                                                                  \n",
      " conv5_block3_add (Add)         (None, 7, 7, 2048)   0           ['conv5_block2_out[0][0]',       \n",
      "                                                                  'conv5_block3_3_bn[0][0]']      \n",
      "                                                                                                  \n",
      " conv5_block3_out (Activation)  (None, 7, 7, 2048)   0           ['conv5_block3_add[0][0]']       \n",
      "                                                                                                  \n",
      " max_pool (GlobalMaxPooling2D)  (None, 2048)         0           ['conv5_block3_out[0][0]']       \n",
      "                                                                                                  \n",
      "==================================================================================================\n",
      "Total params: 23,587,712\n",
      "Trainable params: 23,534,592\n",
      "Non-trainable params: 53,120\n",
      "__________________________________________________________________________________________________\n"
     ]
    }
   ],
   "source": [
    "model = ResNet50(\n",
    "    # retirer la couche fully-connected: (include_top=False) \n",
    "    include_top=False,\n",
    "    # Charger les pois pré-entraînés sur ImageNet,\n",
    "    weights='imagenet',\n",
    "    # Utiliser Keras tensor comme l’image entrée pour le modèle\n",
    "    input_tensor=None,\n",
    "    # À spécifier uniquement si include_top=False (shape tuple)\n",
    "    input_shape=(224, 224, 3),\n",
    "    # À spécifier uniquement si include_top=False\n",
    "    pooling='max')\n",
    "\n",
    "# Vérifiez que la couche supérieure est supprimée\n",
    "model.summary()"
   ]
  },
  {
   "cell_type": "markdown",
   "id": "0fm2lDQvVxo-",
   "metadata": {
    "id": "0fm2lDQvVxo-"
   },
   "source": [
    "Les workers de Spark doivent accéder au modèle et à ses poids.\n",
    "Pour les modèles de taille moyenne (taille < 1 Go), une bonne pratique consiste à télécharger le modèle sur le driver de Spark, puis à diffuser les pondérations aux workers de spark."
   ]
  },
  {
   "cell_type": "markdown",
   "id": "fiIwwdqCkVm7",
   "metadata": {
    "id": "fiIwwdqCkVm7"
   },
   "source": [
    "On utilise donc le broadcast de SparkContext pour repartir les poids du modèle dans tous les noeuds. "
   ]
  },
  {
   "cell_type": "code",
   "execution_count": 33,
   "id": "ae837c10-8843-4f38-a8d5-fdd1d951195e",
   "metadata": {
    "executionInfo": {
     "elapsed": 906,
     "status": "ok",
     "timestamp": 1653983487844,
     "user": {
      "displayName": "Sahel Taherian",
      "userId": "08169290109466282224"
     },
     "user_tz": -120
    },
    "id": "ae837c10-8843-4f38-a8d5-fdd1d951195e"
   },
   "outputs": [],
   "source": [
    "bc_model_weights = sc.broadcast(model.get_weights())"
   ]
  },
  {
   "cell_type": "markdown",
   "id": "da1ea5d2-5b99-4119-b42f-916c524b6910",
   "metadata": {},
   "source": [
    "#### Fonction pour charger le modèle ResNet50"
   ]
  },
  {
   "cell_type": "markdown",
   "id": "fee4d133-15bd-4aef-b6a3-b3c85ecff77d",
   "metadata": {},
   "source": [
    "Cette fonction retourne un modèle ResNet50 avec la couche supérieure enlevée (fully-connected) et \n",
    " des pondérations en broadcast déjà pré-entraînés. \n",
    " On retire la couche supérieure car c'est celle qui permet de faire une classification, or \n",
    " ici on se sert du modéle pour extraire des features."
   ]
  },
  {
   "cell_type": "code",
   "execution_count": 34,
   "id": "PMjK9rcPwsNh",
   "metadata": {
    "executionInfo": {
     "elapsed": 225,
     "status": "ok",
     "timestamp": 1653983489833,
     "user": {
      "displayName": "Sahel Taherian",
      "userId": "08169290109466282224"
     },
     "user_tz": -120
    },
    "id": "PMjK9rcPwsNh"
   },
   "outputs": [],
   "source": [
    "def load_model():\n",
    "\n",
    "    model = ResNet50(include_top=False,\n",
    "                     weights='imagenet',\n",
    "                     input_shape=(224, 224, 3),\n",
    "                     pooling='max')\n",
    "    #on ajoute les pondérations\n",
    "    model.set_weights(bc_model_weights.value)\n",
    "    \n",
    "    return model"
   ]
  },
  {
   "cell_type": "markdown",
   "id": "9fa50394-19ac-4f08-9f22-80b92af34fb2",
   "metadata": {},
   "source": [
    "#### Fonction pour appliquer le pre-processing d'images"
   ]
  },
  {
   "cell_type": "markdown",
   "id": "628730e7-14c3-4d5f-96d0-6cd0b425327e",
   "metadata": {},
   "source": [
    "Cette fonction applique différentes étapes de pre-processing d'images"
   ]
  },
  {
   "cell_type": "code",
   "execution_count": 35,
   "id": "jAY3SQ_hwuDu",
   "metadata": {
    "executionInfo": {
     "elapsed": 178,
     "status": "ok",
     "timestamp": 1653983492324,
     "user": {
      "displayName": "Sahel Taherian",
      "userId": "08169290109466282224"
     },
     "user_tz": -120
    },
    "id": "jAY3SQ_hwuDu",
    "tags": []
   },
   "outputs": [],
   "source": [
    "def image_preprocessing(image):\n",
    "   \n",
    "    # on ouvre et redimensionne l'image car Resnet 50 ne prend en charge que des images de taille 224x224\n",
    "    image = Image.open(io.BytesIO(image)).resize([224, 224])\n",
    "    \n",
    "    # Changer le type d'image en matrice \n",
    "    image = img_to_array(image)\n",
    "    \n",
    "    # Preprocessing: Normaliser les données d'entrées\n",
    "    image = preprocess_input(image)\n",
    "\n",
    "    # Fonction 'preprocess_input' de Keras utilisée dans le modèle ResNet50\n",
    "    # C'est un ensemble de préprocessing propres à l'utilisation de ResNet \n",
    "    \n",
    "    return image"
   ]
  },
  {
   "cell_type": "markdown",
   "id": "b7d34f5d-a9af-4cdf-9fd5-c87abf595c5f",
   "metadata": {},
   "source": [
    "#### Fonction pour featurisation"
   ]
  },
  {
   "cell_type": "markdown",
   "id": "3b132fff-0cf8-4ebc-b988-fb451d94d919",
   "metadata": {},
   "source": [
    "Cette fonction featurizes une série Pandas de images brutes\n",
    "       en utilisant le Transfer Learning et \n",
    "       renvoie une série Pandas de fonctionnalités d'image features."
   ]
  },
  {
   "cell_type": "code",
   "execution_count": 36,
   "id": "QvD9XMm1wu6L",
   "metadata": {
    "executionInfo": {
     "elapsed": 273,
     "status": "ok",
     "timestamp": 1653983495925,
     "user": {
      "displayName": "Sahel Taherian",
      "userId": "08169290109466282224"
     },
     "user_tz": -120
    },
    "id": "QvD9XMm1wu6L"
   },
   "outputs": [],
   "source": [
    "def feature_extractor(model, series_content):\n",
    "\n",
    "    # Prétraitement des images\n",
    "    input = np.stack(series_content.map(image_preprocessing))\n",
    "    \n",
    "    # Extraire les features des images\n",
    "    predictions = model.predict(input)\n",
    "    \n",
    "    # Pour certaines couches, les caractéristiques de sortie sont des tensors multidimensionnels, \n",
    "    # On aplatit les caractéristiques de tensors en vecteurs pour faciliter le stockage dans les dataframes Spark\n",
    "    # la fonction flatten() envoie une copie du tableau réduit à une seule dimension.\n",
    "    features = [p.flatten() for p in predictions]\n",
    "    \n",
    "    # Création d'une série Pandas des features des images\n",
    "    features_series = pd.Series(features)\n",
    "    \n",
    "    return features_series"
   ]
  },
  {
   "cell_type": "markdown",
   "id": "351018a0-ec2b-4f54-aa4c-25944db7d68c",
   "metadata": {},
   "source": [
    "#### Fonction pour compléter le featurisation"
   ]
  },
  {
   "cell_type": "markdown",
   "id": "bc61e96a-f033-49f1-8bff-a1a5d3f675ea",
   "metadata": {},
   "source": [
    "Cette méthode est un Itérateur Scalaire (pandas UDF signifiant User-Defined Functions) qui complète\n",
    "    la fonction de featurisation.\n",
    "    Cela renvoie une colonne Spark DataFrame de type ArrayType(FloatType).\n",
    "  param content_series_iter : Cet argument est un itérateur sur des lots de données, où chaque lot\n",
    "    est une série de données d'images pandas."
   ]
  },
  {
   "cell_type": "code",
   "execution_count": 37,
   "id": "a70ccb9f-55a3-47b1-9815-ea0eeee1d898",
   "metadata": {
    "executionInfo": {
     "elapsed": 167,
     "status": "ok",
     "timestamp": 1653983499106,
     "user": {
      "displayName": "Sahel Taherian",
      "userId": "08169290109466282224"
     },
     "user_tz": -120
    },
    "id": "a70ccb9f-55a3-47b1-9815-ea0eeee1d898"
   },
   "outputs": [],
   "source": [
    "@pandas_udf('array<float>', PandasUDFType.SCALAR_ITER)\n",
    "def apply_udf_featurizer(content):\n",
    "\n",
    "    # Avec Scalar Iterator pandas UDFs, nous pouvons charger le modèle une fois puis le réutiliser. \n",
    "    # Pour plusieurs lots de données, cela amortit les frais généraux liés au chargement des modèles importants.\n",
    "    model = load_model()\n",
    "    \n",
    "    # Appliquer la fonction de featurisation\n",
    "    for series_content in content:\n",
    "        yield feature_extractor(model, series_content)"
   ]
  },
  {
   "cell_type": "markdown",
   "id": "O7JEJ3Z2QpKm",
   "metadata": {
    "id": "O7JEJ3Z2QpKm"
   },
   "source": [
    "Nous pouvons maintenant exécuter la featurisation sur l'ensemble de notre DataFrame Spark"
   ]
  },
  {
   "cell_type": "code",
   "execution_count": 38,
   "id": "T50mcSYUQEzo",
   "metadata": {
    "colab": {
     "base_uri": "https://localhost:8080/"
    },
    "executionInfo": {
     "elapsed": 87237,
     "status": "ok",
     "timestamp": 1653983589779,
     "user": {
      "displayName": "Sahel Taherian",
      "userId": "08169290109466282224"
     },
     "user_tz": -120
    },
    "id": "T50mcSYUQEzo",
    "outputId": "b47e11b4-67bb-40f5-c001-e6956e6f8eaf"
   },
   "outputs": [
    {
     "name": "stdout",
     "output_type": "stream",
     "text": [
      "root\n",
      " |-- path: string (nullable = true)\n",
      " |-- category: string (nullable = true)\n",
      " |-- content: binary (nullable = true)\n",
      " |-- features: array (nullable = true)\n",
      " |    |-- element: float (containsNull = true)\n",
      "\n",
      "+--------------------+-----------------+--------------------+--------------------+\n",
      "|                path|         category|             content|            features|\n",
      "+--------------------+-----------------+--------------------+--------------------+\n",
      "|s3a://p8-sahelbuc...|       cucumber_1|[FF D8 FF E0 00 1...|[6.685832, 1.2260...|\n",
      "|s3a://p8-sahelbuc...|       cucumber_1|[FF D8 FF E0 00 1...|[9.626037, 3.1773...|\n",
      "|s3a://p8-sahelbuc...|         carrot_1|[FF D8 FF E0 00 1...|[1.179364, 5.2705...|\n",
      "|s3a://p8-sahelbuc...|         carrot_1|[FF D8 FF E0 00 1...|[1.3376092, 7.980...|\n",
      "|s3a://p8-sahelbuc...|         carrot_1|[FF D8 FF E0 00 1...|[6.2302, 2.800575...|\n",
      "|s3a://p8-sahelbuc...|eggplant_violet_1|[FF D8 FF E0 00 1...|[7.592759, 11.005...|\n",
      "|s3a://p8-sahelbuc...|eggplant_violet_1|[FF D8 FF E0 00 1...|[9.540223, 6.2902...|\n",
      "|s3a://p8-sahelbuc...|eggplant_violet_1|[FF D8 FF E0 00 1...|[6.048176, 12.184...|\n",
      "|s3a://p8-sahelbuc...|eggplant_violet_1|[FF D8 FF E0 00 1...|[2.0192919, 9.292...|\n",
      "|s3a://p8-sahelbuc...|eggplant_violet_1|[FF D8 FF E0 00 1...|[8.46298, 6.25776...|\n",
      "|s3a://p8-sahelbuc...|eggplant_violet_1|[FF D8 FF E0 00 1...|[2.7497358, 15.39...|\n",
      "+--------------------+-----------------+--------------------+--------------------+\n",
      "\n"
     ]
    }
   ],
   "source": [
    "numPartitions = 2\n",
    "features_df = images_s.repartition(numPartitions).select(\n",
    "    col('path'),\n",
    "    col('category'),\n",
    "    col('content'),\n",
    "    apply_udf_featurizer('content').alias('features'))\n",
    "features_df.printSchema()\n",
    "features_df.show()"
   ]
  },
  {
   "cell_type": "markdown",
   "id": "0MeZHXeKMqz3",
   "metadata": {
    "id": "0MeZHXeKMqz3"
   },
   "source": [
    "### <span style='color:blue '> 2- Réduction de dimension </span>"
   ]
  },
  {
   "cell_type": "markdown",
   "id": "7Z8rDmZQM1mt",
   "metadata": {
    "id": "7Z8rDmZQM1mt"
   },
   "source": [
    "\n",
    "### <span style='color:green '>2.1. Prétraitement des données</span>"
   ]
  },
  {
   "cell_type": "markdown",
   "id": "-oPXVU1-M-EE",
   "metadata": {
    "id": "-oPXVU1-M-EE"
   },
   "source": [
    "#### 2.1.1. Vectorisation\n",
    "Nous commençons par transformer les variables en vecteurs denses."
   ]
  },
  {
   "cell_type": "code",
   "execution_count": 39,
   "id": "bOI5qc8BMarC",
   "metadata": {
    "colab": {
     "base_uri": "https://localhost:8080/"
    },
    "executionInfo": {
     "elapsed": 85648,
     "status": "ok",
     "timestamp": 1653984145076,
     "user": {
      "displayName": "Sahel Taherian",
      "userId": "08169290109466282224"
     },
     "user_tz": -120
    },
    "id": "bOI5qc8BMarC",
    "outputId": "b2341ea0-4d5d-4de6-87dd-efe7ddfb1380"
   },
   "outputs": [
    {
     "name": "stdout",
     "output_type": "stream",
     "text": [
      "root\n",
      " |-- path: string (nullable = true)\n",
      " |-- category: string (nullable = true)\n",
      " |-- content: binary (nullable = true)\n",
      " |-- features: array (nullable = true)\n",
      " |    |-- element: float (containsNull = true)\n",
      " |-- vectorized_features: vector (nullable = true)\n",
      "\n",
      "+--------------------+-----------------+--------------------+--------------------+--------------------+\n",
      "|                path|         category|             content|            features| vectorized_features|\n",
      "+--------------------+-----------------+--------------------+--------------------+--------------------+\n",
      "|s3a://p8-sahelbuc...|       cucumber_1|[FF D8 FF E0 00 1...|[6.685832, 1.2260...|[6.68583202362060...|\n",
      "|s3a://p8-sahelbuc...|       cucumber_1|[FF D8 FF E0 00 1...|[9.626037, 3.1773...|[9.62603664398193...|\n",
      "|s3a://p8-sahelbuc...|         carrot_1|[FF D8 FF E0 00 1...|[1.179364, 5.2705...|[1.17936396598815...|\n",
      "|s3a://p8-sahelbuc...|         carrot_1|[FF D8 FF E0 00 1...|[1.3376092, 7.980...|[1.33760917186737...|\n",
      "|s3a://p8-sahelbuc...|         carrot_1|[FF D8 FF E0 00 1...|[6.2302, 2.800575...|[6.23019981384277...|\n",
      "|s3a://p8-sahelbuc...|eggplant_violet_1|[FF D8 FF E0 00 1...|[7.592759, 11.005...|[7.59275913238525...|\n",
      "|s3a://p8-sahelbuc...|eggplant_violet_1|[FF D8 FF E0 00 1...|[9.540223, 6.2902...|[9.54022312164306...|\n",
      "|s3a://p8-sahelbuc...|eggplant_violet_1|[FF D8 FF E0 00 1...|[6.048176, 12.184...|[6.04817581176757...|\n",
      "|s3a://p8-sahelbuc...|eggplant_violet_1|[FF D8 FF E0 00 1...|[2.0192919, 9.292...|[2.01929187774658...|\n",
      "|s3a://p8-sahelbuc...|eggplant_violet_1|[FF D8 FF E0 00 1...|[8.46298, 6.25776...|[8.46298027038574...|\n",
      "|s3a://p8-sahelbuc...|eggplant_violet_1|[FF D8 FF E0 00 1...|[2.7497358, 15.39...|[2.74973583221435...|\n",
      "+--------------------+-----------------+--------------------+--------------------+--------------------+\n",
      "\n"
     ]
    }
   ],
   "source": [
    "udf_vectorizer = udf(lambda x: Vectors.dense(x), VectorUDT())\n",
    "vec_features_df = features_df.select(\n",
    "    col('path'),\n",
    "    col('category'),\n",
    "    col('content'),\n",
    "    col('features'),\n",
    "    udf_vectorizer('features').alias('vectorized_features'))\n",
    "vec_features_df.printSchema()\n",
    "vec_features_df.show()"
   ]
  },
  {
   "cell_type": "markdown",
   "id": "pdVa5xBqN0J2",
   "metadata": {
    "id": "pdVa5xBqN0J2"
   },
   "source": [
    "#### 2.1.2. Standardisation les données\n",
    "Nous standardisons ensuite les données."
   ]
  },
  {
   "cell_type": "code",
   "execution_count": 40,
   "id": "-nE2i8I5OAK9",
   "metadata": {
    "colab": {
     "base_uri": "https://localhost:8080/"
    },
    "executionInfo": {
     "elapsed": 171152,
     "status": "ok",
     "timestamp": 1653984349499,
     "user": {
      "displayName": "Sahel Taherian",
      "userId": "08169290109466282224"
     },
     "user_tz": -120
    },
    "id": "-nE2i8I5OAK9",
    "outputId": "753307e8-dd46-4bc5-c69d-b231dd7ebd68"
   },
   "outputs": [
    {
     "name": "stdout",
     "output_type": "stream",
     "text": [
      "root\n",
      " |-- path: string (nullable = true)\n",
      " |-- category: string (nullable = true)\n",
      " |-- content: binary (nullable = true)\n",
      " |-- features: array (nullable = true)\n",
      " |    |-- element: float (containsNull = true)\n",
      " |-- scaled_features: vector (nullable = true)\n",
      "\n",
      "+--------------------+-----------------+--------------------+--------------------+--------------------+\n",
      "|                path|         category|             content|            features|     scaled_features|\n",
      "+--------------------+-----------------+--------------------+--------------------+--------------------+\n",
      "|s3a://p8-sahelbuc...|       cucumber_1|[FF D8 FF E0 00 1...|[6.685832, 1.2260...|[0.33976092858023...|\n",
      "|s3a://p8-sahelbuc...|       cucumber_1|[FF D8 FF E0 00 1...|[9.626037, 3.1773...|[1.25002302599642...|\n",
      "|s3a://p8-sahelbuc...|         carrot_1|[FF D8 FF E0 00 1...|[1.179364, 5.2705...|[-1.3649942877012...|\n",
      "|s3a://p8-sahelbuc...|         carrot_1|[FF D8 FF E0 00 1...|[1.3376092, 7.980...|[-1.3160029311091...|\n",
      "|s3a://p8-sahelbuc...|         carrot_1|[FF D8 FF E0 00 1...|[6.2302, 2.800575...|[0.19870110980076...|\n",
      "|s3a://p8-sahelbuc...|eggplant_violet_1|[FF D8 FF E0 00 1...|[7.592759, 11.005...|[0.62053777197090...|\n",
      "|s3a://p8-sahelbuc...|eggplant_violet_1|[FF D8 FF E0 00 1...|[9.540223, 6.2902...|[1.22345589652186...|\n",
      "|s3a://p8-sahelbuc...|eggplant_violet_1|[FF D8 FF E0 00 1...|[6.048176, 12.184...|[0.14234804213954...|\n",
      "|s3a://p8-sahelbuc...|eggplant_violet_1|[FF D8 FF E0 00 1...|[2.0192919, 9.292...|[-1.1049598202559...|\n",
      "|s3a://p8-sahelbuc...|eggplant_violet_1|[FF D8 FF E0 00 1...|[8.46298, 6.25776...|[0.88995076207595...|\n",
      "|s3a://p8-sahelbuc...|eggplant_violet_1|[FF D8 FF E0 00 1...|[2.7497358, 15.39...|[-0.8788206456440...|\n",
      "+--------------------+-----------------+--------------------+--------------------+--------------------+\n",
      "\n"
     ]
    }
   ],
   "source": [
    "scaler = StandardScaler(withMean=True,\n",
    "                        withStd=True,\n",
    "                        inputCol='vectorized_features',\n",
    "                        outputCol='scaled_features')\n",
    "scaler_model = scaler.fit(vec_features_df)\n",
    "scaled_features_df = scaler_model.transform(\n",
    "    vec_features_df).select(['path',\n",
    "                             'category',\n",
    "                             'content',\n",
    "                             'features',\n",
    "                             'scaled_features'])\n",
    "scaled_features_df.printSchema()\n",
    "scaled_features_df.show()"
   ]
  },
  {
   "cell_type": "markdown",
   "id": "kddNP95AO5pS",
   "metadata": {
    "id": "kddNP95AO5pS"
   },
   "source": [
    "### <span style='color:green '>2.2. Analyse en composantes principales (ACP)</span>"
   ]
  },
  {
   "cell_type": "markdown",
   "id": "69d19510-9a98-416d-b6b4-d807a146a114",
   "metadata": {},
   "source": [
    "L'ACP s'applique à des données denses et permet de créer des variables décorrélées entre elles, et de diminuer leurs dimensions, tout en gardant un pourcentage de variance expliquée élevé."
   ]
  },
  {
   "cell_type": "code",
   "execution_count": 41,
   "id": "WpCUjDfLOAUE",
   "metadata": {
    "colab": {
     "base_uri": "https://localhost:8080/"
    },
    "executionInfo": {
     "elapsed": 239521,
     "status": "ok",
     "timestamp": 1653984692900,
     "user": {
      "displayName": "Sahel Taherian",
      "userId": "08169290109466282224"
     },
     "user_tz": -120
    },
    "id": "WpCUjDfLOAUE",
    "outputId": "91c890f4-a4e6-4a5c-d87c-57fb9e36a3bb"
   },
   "outputs": [
    {
     "name": "stdout",
     "output_type": "stream",
     "text": [
      "root\n",
      " |-- path: string (nullable = true)\n",
      " |-- category: string (nullable = true)\n",
      " |-- content: binary (nullable = true)\n",
      " |-- features: array (nullable = true)\n",
      " |    |-- element: float (containsNull = true)\n",
      " |-- reduced_features: vector (nullable = true)\n",
      "\n",
      "+--------------------+-----------------+--------------------+--------------------+--------------------+\n",
      "|                path|         category|             content|            features|    reduced_features|\n",
      "+--------------------+-----------------+--------------------+--------------------+--------------------+\n",
      "|s3a://p8-sahelbuc...|       cucumber_1|[FF D8 FF E0 00 1...|[6.685832, 1.2260...|[34.2339263611350...|\n",
      "|s3a://p8-sahelbuc...|       cucumber_1|[FF D8 FF E0 00 1...|[9.626037, 3.1773...|[32.2562875210084...|\n",
      "|s3a://p8-sahelbuc...|         carrot_1|[FF D8 FF E0 00 1...|[1.179364, 5.2705...|[18.5147374826944...|\n",
      "|s3a://p8-sahelbuc...|         carrot_1|[FF D8 FF E0 00 1...|[1.3376092, 7.980...|[15.4059220226347...|\n",
      "|s3a://p8-sahelbuc...|         carrot_1|[FF D8 FF E0 00 1...|[6.2302, 2.800575...|[19.9182351191773...|\n",
      "|s3a://p8-sahelbuc...|eggplant_violet_1|[FF D8 FF E0 00 1...|[7.592759, 11.005...|[-19.546216527816...|\n",
      "|s3a://p8-sahelbuc...|eggplant_violet_1|[FF D8 FF E0 00 1...|[9.540223, 6.2902...|[-18.427371614516...|\n",
      "|s3a://p8-sahelbuc...|eggplant_violet_1|[FF D8 FF E0 00 1...|[6.048176, 12.184...|[-23.171094974965...|\n",
      "|s3a://p8-sahelbuc...|eggplant_violet_1|[FF D8 FF E0 00 1...|[2.0192919, 9.292...|[-21.687611166781...|\n",
      "|s3a://p8-sahelbuc...|eggplant_violet_1|[FF D8 FF E0 00 1...|[8.46298, 6.25776...|[-20.893976123551...|\n",
      "|s3a://p8-sahelbuc...|eggplant_violet_1|[FF D8 FF E0 00 1...|[2.7497358, 15.39...|[-16.602838131263...|\n",
      "+--------------------+-----------------+--------------------+--------------------+--------------------+\n",
      "\n"
     ]
    }
   ],
   "source": [
    "n_comp = 9\n",
    "pca = PCA(k=n_comp,\n",
    "          inputCol='scaled_features',\n",
    "          outputCol='reduced_features')\n",
    "pca_model = pca.fit(scaled_features_df)\n",
    "reduced_features_df = pca_model.transform(\n",
    "    scaled_features_df).select(['path',\n",
    "                                'category',\n",
    "                                'content',\n",
    "                                'features',\n",
    "                                'reduced_features'])\n",
    "reduced_features_df.printSchema()\n",
    "reduced_features_df.show()"
   ]
  },
  {
   "cell_type": "markdown",
   "id": "13c31598-0887-4763-9206-2a0c88654450",
   "metadata": {},
   "source": [
    "#### Le pourcentage de variance expliquée par chaque composante."
   ]
  },
  {
   "cell_type": "code",
   "execution_count": 42,
   "id": "dbv0xby-OAal",
   "metadata": {
    "colab": {
     "base_uri": "https://localhost:8080/"
    },
    "executionInfo": {
     "elapsed": 209,
     "status": "ok",
     "timestamp": 1653985527629,
     "user": {
      "displayName": "Sahel Taherian",
      "userId": "08169290109466282224"
     },
     "user_tz": -120
    },
    "id": "dbv0xby-OAal",
    "outputId": "77bab0ea-39a9-40f5-f1d6-c30cb30decfe"
   },
   "outputs": [
    {
     "data": {
      "text/plain": [
       "DenseVector([0.2752, 0.1842, 0.1364, 0.0932, 0.0883, 0.0565, 0.054, 0.0474, 0.0352])"
      ]
     },
     "execution_count": 42,
     "metadata": {},
     "output_type": "execute_result"
    }
   ],
   "source": [
    "pca_model.explainedVariance"
   ]
  },
  {
   "cell_type": "markdown",
   "id": "ba593a1a-5f42-48b0-845a-67140098d61d",
   "metadata": {},
   "source": [
    "Ces valeurs vont nous permettre de déterminer le nombre de facteur/Composantes principales optimal pour notre ACP. "
   ]
  },
  {
   "cell_type": "markdown",
   "id": "D__IQHI6VeaS",
   "metadata": {
    "id": "D__IQHI6VeaS"
   },
   "source": [
    "Nous allons chercher le nombre de composantes principales à conserver, en se fixant sur au moins 85 % de l'inertie."
   ]
  },
  {
   "cell_type": "code",
   "execution_count": 43,
   "id": "4WtcMiQdU9XW",
   "metadata": {
    "executionInfo": {
     "elapsed": 190,
     "status": "ok",
     "timestamp": 1653985530070,
     "user": {
      "displayName": "Sahel Taherian",
      "userId": "08169290109466282224"
     },
     "user_tz": -120
    },
    "id": "4WtcMiQdU9XW"
   },
   "outputs": [],
   "source": [
    "scree = pca_model.explainedVariance"
   ]
  },
  {
   "cell_type": "code",
   "execution_count": 45,
   "id": "C3ZFc43aUyRG",
   "metadata": {
    "colab": {
     "base_uri": "https://localhost:8080/"
    },
    "executionInfo": {
     "elapsed": 287,
     "status": "ok",
     "timestamp": 1653985537740,
     "user": {
      "displayName": "Sahel Taherian",
      "userId": "08169290109466282224"
     },
     "user_tz": -120
    },
    "id": "C3ZFc43aUyRG",
    "outputId": "3fd3430a-14cf-4f35-83c3-6adc91b3cb91",
    "tags": []
   },
   "outputs": [
    {
     "name": "stdout",
     "output_type": "stream",
     "text": [
      "6 composantes principales expliquent au moins 85% de la variance totale\n",
      "Valeur exacte de variance expliquée:88.76682684434319%\n"
     ]
    }
   ],
   "source": [
    "ncp_pca=0\n",
    "for i in range(50):\n",
    "    a = scree.cumsum()[i]\n",
    "    if a >= 0.85:\n",
    "        print(\"{} composantes principales expliquent au moins 85% de la variance totale\".format(i))\n",
    "        print(\"Valeur exacte de variance expliquée:{}%\".format(a*100))\n",
    "        nbr_pca=i\n",
    "        break"
   ]
  },
  {
   "cell_type": "markdown",
   "id": "08d0be2f-9878-4f4e-a59f-9aef9d56ef9f",
   "metadata": {},
   "source": [
    "#### Le nombre de composantes principales sur Scree plot"
   ]
  },
  {
   "cell_type": "code",
   "execution_count": 44,
   "id": "RRrcHJyMOAeW",
   "metadata": {
    "colab": {
     "base_uri": "https://localhost:8080/",
     "height": 376
    },
    "executionInfo": {
     "elapsed": 582,
     "status": "ok",
     "timestamp": 1653985533286,
     "user": {
      "displayName": "Sahel Taherian",
      "userId": "08169290109466282224"
     },
     "user_tz": -120
    },
    "id": "RRrcHJyMOAeW",
    "outputId": "051dd34f-c9e0-4df6-b39e-1b7d86104e93"
   },
   "outputs": [
    {
     "data": {
      "image/png": "[encoded data removed]",
      "text/plain": [
       "<Figure size 576x396 with 1 Axes>"
      ]
     },
     "metadata": {},
     "output_type": "display_data"
    }
   ],
   "source": [
    "eigen_val = pca_model.explainedVariance.cumsum()\n",
    "sns.lineplot(x=[i for i in range(n_comp + 1)], \n",
    "             y=np.insert(eigen_val, 0, 0) * 100)\n",
    "plt.title('PCA - Scree of eigen values')\n",
    "plt.xlabel(\"Nombre de composantes principales\")\n",
    "plt.ylabel(\"Variance expliquée en pourcentage(%)\")\n",
    "plt.ylim(0, 120)\n",
    "plt.xlim(left=0)\n",
    "plt.axhline(y=99, color='red', linestyle='--')\n",
    "plt.text(1, 99, '99%', c='red')\n",
    "plt.show()"
   ]
  },
  {
   "cell_type": "markdown",
   "id": "9c07aa71-bbb3-49db-ad54-4cf1f1be01ef",
   "metadata": {},
   "source": [
    "#### Dataframe après la réduction de dimension  "
   ]
  },
  {
   "cell_type": "code",
   "execution_count": 46,
   "id": "QWasjl8KUyc0",
   "metadata": {
    "colab": {
     "base_uri": "https://localhost:8080/"
    },
    "executionInfo": {
     "elapsed": 84085,
     "status": "ok",
     "timestamp": 1653985627992,
     "user": {
      "displayName": "Sahel Taherian",
      "userId": "08169290109466282224"
     },
     "user_tz": -120
    },
    "id": "QWasjl8KUyc0",
    "outputId": "8bce4f9e-f7cb-483d-a2a5-cab655cc8ce0"
   },
   "outputs": [
    {
     "name": "stdout",
     "output_type": "stream",
     "text": [
      "+--------------------+-----------------+--------------------+--------------------+--------------------+--------------------+\n",
      "|                path|         category|             content|            features|     scaled_features|    reduced_features|\n",
      "+--------------------+-----------------+--------------------+--------------------+--------------------+--------------------+\n",
      "|s3a://p8-sahelbuc...|       cucumber_1|[FF D8 FF E0 00 1...|[6.685832, 1.2260...|[0.33976092858023...|[34.2339263611350...|\n",
      "|s3a://p8-sahelbuc...|       cucumber_1|[FF D8 FF E0 00 1...|[9.626037, 3.1773...|[1.25002302599642...|[32.2562875210084...|\n",
      "|s3a://p8-sahelbuc...|         carrot_1|[FF D8 FF E0 00 1...|[1.179364, 5.2705...|[-1.3649942877012...|[18.5147374826944...|\n",
      "|s3a://p8-sahelbuc...|         carrot_1|[FF D8 FF E0 00 1...|[1.3376092, 7.980...|[-1.3160029311091...|[15.4059220226347...|\n",
      "|s3a://p8-sahelbuc...|         carrot_1|[FF D8 FF E0 00 1...|[6.2302, 2.800575...|[0.19870110980076...|[19.9182351191773...|\n",
      "|s3a://p8-sahelbuc...|eggplant_violet_1|[FF D8 FF E0 00 1...|[7.592759, 11.005...|[0.62053777197090...|[-19.546216527816...|\n",
      "|s3a://p8-sahelbuc...|eggplant_violet_1|[FF D8 FF E0 00 1...|[9.540223, 6.2902...|[1.22345589652186...|[-18.427371614516...|\n",
      "|s3a://p8-sahelbuc...|eggplant_violet_1|[FF D8 FF E0 00 1...|[6.048176, 12.184...|[0.14234804213954...|[-23.171094974965...|\n",
      "|s3a://p8-sahelbuc...|eggplant_violet_1|[FF D8 FF E0 00 1...|[2.0192919, 9.292...|[-1.1049598202559...|[-21.687611166781...|\n",
      "|s3a://p8-sahelbuc...|eggplant_violet_1|[FF D8 FF E0 00 1...|[8.46298, 6.25776...|[0.88995076207595...|[-20.893976123551...|\n",
      "|s3a://p8-sahelbuc...|eggplant_violet_1|[FF D8 FF E0 00 1...|[2.7497358, 15.39...|[-0.8788206456440...|[-16.602838131263...|\n",
      "+--------------------+-----------------+--------------------+--------------------+--------------------+--------------------+\n",
      "\n"
     ]
    }
   ],
   "source": [
    "df_pca = pca_model.transform(scaled_features_df)\n",
    "df_pca.show()"
   ]
  },
  {
   "cell_type": "markdown",
   "id": "MXoy5YKZQMT9",
   "metadata": {
    "id": "MXoy5YKZQMT9"
   },
   "source": [
    "### <span style='color:blue '> 3- Export et sauvegarde du résultat de la réduction de dimension en format csv sur S3 </span>"
   ]
  },
  {
   "cell_type": "markdown",
   "id": "bmQVZ9wmQ4dp",
   "metadata": {
    "id": "bmQVZ9wmQ4dp"
   },
   "source": [
    "### <span style='color:green '>3.1. Création des labels : </span>"
   ]
  },
  {
   "cell_type": "markdown",
   "id": "oURiVKz7Q-sY",
   "metadata": {
    "id": "oURiVKz7Q-sY"
   },
   "source": [
    "Nous allons d'abord créer les labels à partir des catégories des fruits. "
   ]
  },
  {
   "cell_type": "code",
   "execution_count": 47,
   "id": "1_XpDBcoOl3N",
   "metadata": {
    "colab": {
     "base_uri": "https://localhost:8080/"
    },
    "executionInfo": {
     "elapsed": 111727,
     "status": "ok",
     "timestamp": 1653985870779,
     "user": {
      "displayName": "Sahel Taherian",
      "userId": "08169290109466282224"
     },
     "user_tz": -120
    },
    "id": "1_XpDBcoOl3N",
    "outputId": "757ea5b7-12d7-444c-e485-7290a099a21c"
   },
   "outputs": [
    {
     "name": "stdout",
     "output_type": "stream",
     "text": [
      "+--------------------+-----------------+-----+--------------------+--------------------+\n",
      "|                path|         category|label|            features|    reduced_features|\n",
      "+--------------------+-----------------+-----+--------------------+--------------------+\n",
      "|s3a://p8-sahelbuc...|       cucumber_1|  2.0|[6.685832, 1.2260...|[34.2339263611350...|\n",
      "|s3a://p8-sahelbuc...|       cucumber_1|  2.0|[9.626037, 3.1773...|[32.2562875210084...|\n",
      "|s3a://p8-sahelbuc...|         carrot_1|  1.0|[1.179364, 5.2705...|[18.5147374826944...|\n",
      "|s3a://p8-sahelbuc...|         carrot_1|  1.0|[1.3376092, 7.980...|[15.4059220226347...|\n",
      "|s3a://p8-sahelbuc...|         carrot_1|  1.0|[6.2302, 2.800575...|[19.9182351191773...|\n",
      "|s3a://p8-sahelbuc...|eggplant_violet_1|  0.0|[7.592759, 11.005...|[-19.546216527816...|\n",
      "|s3a://p8-sahelbuc...|eggplant_violet_1|  0.0|[9.540223, 6.2902...|[-18.427371614516...|\n",
      "|s3a://p8-sahelbuc...|eggplant_violet_1|  0.0|[6.048176, 12.184...|[-23.171094974965...|\n",
      "|s3a://p8-sahelbuc...|eggplant_violet_1|  0.0|[2.0192919, 9.292...|[-21.687611166781...|\n",
      "|s3a://p8-sahelbuc...|eggplant_violet_1|  0.0|[8.46298, 6.25776...|[-20.893976123551...|\n",
      "|s3a://p8-sahelbuc...|eggplant_violet_1|  0.0|[2.7497358, 15.39...|[-16.602838131263...|\n",
      "+--------------------+-----------------+-----+--------------------+--------------------+\n",
      "\n"
     ]
    }
   ],
   "source": [
    "indexer = StringIndexer(inputCol='category', outputCol='label')\n",
    "indexer_model = indexer.fit(reduced_features_df)\n",
    "df_final = indexer_model.transform(\n",
    "    reduced_features_df).select(['path',\n",
    "                                 'category',\n",
    "                                 'label',\n",
    "                                 'features',\n",
    "                                 'reduced_features'])\n",
    "df_final.show()"
   ]
  },
  {
   "cell_type": "markdown",
   "id": "BRfKAjLbRI2d",
   "metadata": {
    "id": "BRfKAjLbRI2d"
   },
   "source": [
    "### <span style='color:green '>3.2. Convertir la dataframe Spark en dataframe Pandas </span>"
   ]
  },
  {
   "cell_type": "markdown",
   "id": "67fe9562-4756-4be8-b2c3-3eb2078d524b",
   "metadata": {},
   "source": [
    "Nous allons ensuite convertir le Spark dataframe en Pandas dataframe."
   ]
  },
  {
   "cell_type": "code",
   "execution_count": 48,
   "id": "1C7N3bDGPOOe",
   "metadata": {
    "colab": {
     "base_uri": "https://localhost:8080/",
     "height": 629
    },
    "executionInfo": {
     "elapsed": 84412,
     "status": "ok",
     "timestamp": 1653986008275,
     "user": {
      "displayName": "Sahel Taherian",
      "userId": "08169290109466282224"
     },
     "user_tz": -120
    },
    "id": "1C7N3bDGPOOe",
    "outputId": "3c8c41d8-05cf-4505-9935-4c1f8ccc5c7f"
   },
   "outputs": [
    {
     "data": {
      "text/html": [
       "\n",
       "  <div id=\"df-a00dc293-4e2a-4b63-a8ee-45638626f2e5\">\n",
       "    <div class=\"colab-df-container\">\n",
       "      <div>\n",
       "<style scoped>\n",
       "    .dataframe tbody tr th:only-of-type {\n",
       "        vertical-align: middle;\n",
       "    }\n",
       "\n",
       "    .dataframe tbody tr th {\n",
       "        vertical-align: top;\n",
       "    }\n",
       "\n",
       "    .dataframe thead th {\n",
       "        text-align: right;\n",
       "    }\n",
       "</style>\n",
       "<table border=\"1\" class=\"dataframe\">\n",
       "  <thead>\n",
       "    <tr style=\"text-align: right;\">\n",
       "      <th></th>\n",
       "      <th>path</th>\n",
       "      <th>category</th>\n",
       "      <th>label</th>\n",
       "      <th>features</th>\n",
       "      <th>reduced_features</th>\n",
       "    </tr>\n",
       "  </thead>\n",
       "  <tbody>\n",
       "    <tr>\n",
       "      <th>0</th>\n",
       "      <td>s3a://p8-sahelbucket/fruits-360-original-size/...</td>\n",
       "      <td>cucumber_1</td>\n",
       "      <td>2.0</td>\n",
       "      <td>[6.6858320236206055, 1.226047396659851, 6.5544...</td>\n",
       "      <td>[34.23392636113505, 24.55234879232135, -9.6687...</td>\n",
       "    </tr>\n",
       "    <tr>\n",
       "      <th>1</th>\n",
       "      <td>s3a://p8-sahelbucket/fruits-360-original-size/...</td>\n",
       "      <td>cucumber_1</td>\n",
       "      <td>2.0</td>\n",
       "      <td>[9.626036643981934, 3.1773762702941895, 4.9488...</td>\n",
       "      <td>[32.256287521008446, 25.6978573573724, -11.235...</td>\n",
       "    </tr>\n",
       "    <tr>\n",
       "      <th>2</th>\n",
       "      <td>s3a://p8-sahelbucket/fruits-360-original-size/...</td>\n",
       "      <td>carrot_1</td>\n",
       "      <td>1.0</td>\n",
       "      <td>[1.1793639659881592, 5.270581245422363, 5.7084...</td>\n",
       "      <td>[18.514737482694485, -18.901555167999028, 12.4...</td>\n",
       "    </tr>\n",
       "    <tr>\n",
       "      <th>3</th>\n",
       "      <td>s3a://p8-sahelbucket/fruits-360-original-size/...</td>\n",
       "      <td>carrot_1</td>\n",
       "      <td>1.0</td>\n",
       "      <td>[1.3376091718673706, 7.980834007263184, 7.0825...</td>\n",
       "      <td>[15.405922022634744, -17.055192816164947, 13.4...</td>\n",
       "    </tr>\n",
       "    <tr>\n",
       "      <th>4</th>\n",
       "      <td>s3a://p8-sahelbucket/fruits-360-original-size/...</td>\n",
       "      <td>carrot_1</td>\n",
       "      <td>1.0</td>\n",
       "      <td>[6.230199813842773, 2.8005754947662354, 5.8880...</td>\n",
       "      <td>[19.918235119177346, -35.56180270623306, 0.863...</td>\n",
       "    </tr>\n",
       "    <tr>\n",
       "      <th>5</th>\n",
       "      <td>s3a://p8-sahelbucket/fruits-360-original-size/...</td>\n",
       "      <td>eggplant_violet_1</td>\n",
       "      <td>0.0</td>\n",
       "      <td>[7.592759132385254, 11.005794525146484, 0.6071...</td>\n",
       "      <td>[-19.54621652781669, 11.615111459936756, 15.30...</td>\n",
       "    </tr>\n",
       "    <tr>\n",
       "      <th>6</th>\n",
       "      <td>s3a://p8-sahelbucket/fruits-360-original-size/...</td>\n",
       "      <td>eggplant_violet_1</td>\n",
       "      <td>0.0</td>\n",
       "      <td>[9.540223121643066, 6.2902607917785645, 0.4024...</td>\n",
       "      <td>[-18.427371614516964, 10.71385965740194, 11.69...</td>\n",
       "    </tr>\n",
       "    <tr>\n",
       "      <th>7</th>\n",
       "      <td>s3a://p8-sahelbucket/fruits-360-original-size/...</td>\n",
       "      <td>eggplant_violet_1</td>\n",
       "      <td>0.0</td>\n",
       "      <td>[6.048175811767578, 12.184507369995117, 0.5442...</td>\n",
       "      <td>[-23.171094974965392, -3.2861355171645985, -13...</td>\n",
       "    </tr>\n",
       "    <tr>\n",
       "      <th>8</th>\n",
       "      <td>s3a://p8-sahelbucket/fruits-360-original-size/...</td>\n",
       "      <td>eggplant_violet_1</td>\n",
       "      <td>0.0</td>\n",
       "      <td>[2.019291877746582, 9.292301177978516, 0.0, 0....</td>\n",
       "      <td>[-21.68761116678123, -14.083612475032856, -37....</td>\n",
       "    </tr>\n",
       "    <tr>\n",
       "      <th>9</th>\n",
       "      <td>s3a://p8-sahelbucket/fruits-360-original-size/...</td>\n",
       "      <td>eggplant_violet_1</td>\n",
       "      <td>0.0</td>\n",
       "      <td>[8.462980270385742, 6.257760047912598, 0.46707...</td>\n",
       "      <td>[-20.893976123551976, 8.098069710717066, 16.65...</td>\n",
       "    </tr>\n",
       "    <tr>\n",
       "      <th>10</th>\n",
       "      <td>s3a://p8-sahelbucket/fruits-360-original-size/...</td>\n",
       "      <td>eggplant_violet_1</td>\n",
       "      <td>0.0</td>\n",
       "      <td>[2.7497358322143555, 15.396514892578125, 0.009...</td>\n",
       "      <td>[-16.602838131263223, 8.211050847632883, 1.452...</td>\n",
       "    </tr>\n",
       "  </tbody>\n",
       "</table>\n",
       "</div>\n",
       "      <button class=\"colab-df-convert\" onclick=\"convertToInteractive('df-a00dc293-4e2a-4b63-a8ee-45638626f2e5')\"\n",
       "              title=\"Convert this dataframe to an interactive table.\"\n",
       "              style=\"display:none;\">\n",
       "        \n",
       "  <svg xmlns=\"http://www.w3.org/2000/svg\" height=\"24px\"viewBox=\"0 0 24 24\"\n",
       "       width=\"24px\">\n",
       "    <path d=\"M0 0h24v24H0V0z\" fill=\"none\"/>\n",
       "    <path d=\"M18.56 5.44l.94 2.06.94-2.06 2.06-.94-2.06-.94-.94-2.06-.94 2.06-2.06.94zm-11 1L8.5 8.5l.94-2.06 2.06-.94-2.06-.94L8.5 2.5l-.94 2.06-2.06.94zm10 10l.94 2.06.94-2.06 2.06-.94-2.06-.94-.94-2.06-.94 2.06-2.06.94z\"/><path d=\"M17.41 7.96l-1.37-1.37c-.4-.4-.92-.59-1.43-.59-.52 0-1.04.2-1.43.59L10.3 9.45l-7.72 7.72c-.78.78-.78 2.05 0 2.83L4 21.41c.39.39.9.59 1.41.59.51 0 1.02-.2 1.41-.59l7.78-7.78 2.81-2.81c.8-.78.8-2.07 0-2.86zM5.41 20L4 18.59l7.72-7.72 1.47 1.35L5.41 20z\"/>\n",
       "  </svg>\n",
       "      </button>\n",
       "      \n",
       "  <style>\n",
       "    .colab-df-container {\n",
       "      display:flex;\n",
       "      flex-wrap:wrap;\n",
       "      gap: 12px;\n",
       "    }\n",
       "\n",
       "    .colab-df-convert {\n",
       "      background-color: #E8F0FE;\n",
       "      border: none;\n",
       "      border-radius: 50%;\n",
       "      cursor: pointer;\n",
       "      display: none;\n",
       "      fill: #1967D2;\n",
       "      height: 32px;\n",
       "      padding: 0 0 0 0;\n",
       "      width: 32px;\n",
       "    }\n",
       "\n",
       "    .colab-df-convert:hover {\n",
       "      background-color: #E2EBFA;\n",
       "      box-shadow: 0px 1px 2px rgba(60, 64, 67, 0.3), 0px 1px 3px 1px rgba(60, 64, 67, 0.15);\n",
       "      fill: #174EA6;\n",
       "    }\n",
       "\n",
       "    [theme=dark] .colab-df-convert {\n",
       "      background-color: #3B4455;\n",
       "      fill: #D2E3FC;\n",
       "    }\n",
       "\n",
       "    [theme=dark] .colab-df-convert:hover {\n",
       "      background-color: #434B5C;\n",
       "      box-shadow: 0px 1px 3px 1px rgba(0, 0, 0, 0.15);\n",
       "      filter: drop-shadow(0px 1px 2px rgba(0, 0, 0, 0.3));\n",
       "      fill: #FFFFFF;\n",
       "    }\n",
       "  </style>\n",
       "\n",
       "      <script>\n",
       "        const buttonEl =\n",
       "          document.querySelector('#df-a00dc293-4e2a-4b63-a8ee-45638626f2e5 button.colab-df-convert');\n",
       "        buttonEl.style.display =\n",
       "          google.colab.kernel.accessAllowed ? 'block' : 'none';\n",
       "\n",
       "        async function convertToInteractive(key) {\n",
       "          const element = document.querySelector('#df-a00dc293-4e2a-4b63-a8ee-45638626f2e5');\n",
       "          const dataTable =\n",
       "            await google.colab.kernel.invokeFunction('convertToInteractive',\n",
       "                                                     [key], {});\n",
       "          if (!dataTable) return;\n",
       "\n",
       "          const docLinkHtml = 'Like what you see? Visit the ' +\n",
       "            '<a target=\"_blank\" href=https://colab.research.google.com/notebooks/data_table.ipynb>data table notebook</a>'\n",
       "            + ' to learn more about interactive tables.';\n",
       "          element.innerHTML = '';\n",
       "          dataTable['output_type'] = 'display_data';\n",
       "          await google.colab.output.renderOutput(dataTable, element);\n",
       "          const docLink = document.createElement('div');\n",
       "          docLink.innerHTML = docLinkHtml;\n",
       "          element.appendChild(docLink);\n",
       "        }\n",
       "      </script>\n",
       "    </div>\n",
       "  </div>\n",
       "  "
      ],
      "text/plain": [
       "                                                 path           category  \\\n",
       "0   s3a://p8-sahelbucket/fruits-360-original-size/...         cucumber_1   \n",
       "1   s3a://p8-sahelbucket/fruits-360-original-size/...         cucumber_1   \n",
       "2   s3a://p8-sahelbucket/fruits-360-original-size/...           carrot_1   \n",
       "3   s3a://p8-sahelbucket/fruits-360-original-size/...           carrot_1   \n",
       "4   s3a://p8-sahelbucket/fruits-360-original-size/...           carrot_1   \n",
       "5   s3a://p8-sahelbucket/fruits-360-original-size/...  eggplant_violet_1   \n",
       "6   s3a://p8-sahelbucket/fruits-360-original-size/...  eggplant_violet_1   \n",
       "7   s3a://p8-sahelbucket/fruits-360-original-size/...  eggplant_violet_1   \n",
       "8   s3a://p8-sahelbucket/fruits-360-original-size/...  eggplant_violet_1   \n",
       "9   s3a://p8-sahelbucket/fruits-360-original-size/...  eggplant_violet_1   \n",
       "10  s3a://p8-sahelbucket/fruits-360-original-size/...  eggplant_violet_1   \n",
       "\n",
       "    label                                           features  \\\n",
       "0     2.0  [6.6858320236206055, 1.226047396659851, 6.5544...   \n",
       "1     2.0  [9.626036643981934, 3.1773762702941895, 4.9488...   \n",
       "2     1.0  [1.1793639659881592, 5.270581245422363, 5.7084...   \n",
       "3     1.0  [1.3376091718673706, 7.980834007263184, 7.0825...   \n",
       "4     1.0  [6.230199813842773, 2.8005754947662354, 5.8880...   \n",
       "5     0.0  [7.592759132385254, 11.005794525146484, 0.6071...   \n",
       "6     0.0  [9.540223121643066, 6.2902607917785645, 0.4024...   \n",
       "7     0.0  [6.048175811767578, 12.184507369995117, 0.5442...   \n",
       "8     0.0  [2.019291877746582, 9.292301177978516, 0.0, 0....   \n",
       "9     0.0  [8.462980270385742, 6.257760047912598, 0.46707...   \n",
       "10    0.0  [2.7497358322143555, 15.396514892578125, 0.009...   \n",
       "\n",
       "                                     reduced_features  \n",
       "0   [34.23392636113505, 24.55234879232135, -9.6687...  \n",
       "1   [32.256287521008446, 25.6978573573724, -11.235...  \n",
       "2   [18.514737482694485, -18.901555167999028, 12.4...  \n",
       "3   [15.405922022634744, -17.055192816164947, 13.4...  \n",
       "4   [19.918235119177346, -35.56180270623306, 0.863...  \n",
       "5   [-19.54621652781669, 11.615111459936756, 15.30...  \n",
       "6   [-18.427371614516964, 10.71385965740194, 11.69...  \n",
       "7   [-23.171094974965392, -3.2861355171645985, -13...  \n",
       "8   [-21.68761116678123, -14.083612475032856, -37....  \n",
       "9   [-20.893976123551976, 8.098069710717066, 16.65...  \n",
       "10  [-16.602838131263223, 8.211050847632883, 1.452...  "
      ]
     },
     "execution_count": 48,
     "metadata": {},
     "output_type": "execute_result"
    }
   ],
   "source": [
    "df_pandas = df_final.toPandas()\n",
    "df_pandas"
   ]
  },
  {
   "cell_type": "markdown",
   "id": "getV1m2mSFXo",
   "metadata": {
    "id": "getV1m2mSFXo"
   },
   "source": [
    "### <span style='color:green '>3.3. Enregistrement des résultats sur S3 </span>"
   ]
  },
  {
   "cell_type": "markdown",
   "id": "604f492a-7b71-4995-9602-26c1d6327e6f",
   "metadata": {},
   "source": [
    "Enfin, nous sauvegarderons le Pandas dataframe sur S3 dans le compartiment « p8-sahelbucket »"
   ]
  },
  {
   "cell_type": "code",
   "execution_count": null,
   "id": "oxYAfUU_SJsy",
   "metadata": {
    "id": "oxYAfUU_SJsy"
   },
   "outputs": [],
   "source": [
    "df = StringIO()\n",
    "df_pandas.to_csv(df, index=False)\n",
    "s3_client.put_object(Body=df.getvalue(),\n",
    "                     Bucket=BUCKET_NAME,\n",
    "                     Key='P8_03_pretraitement.csv')"
   ]
  }
 ],
 "metadata": {
  "colab": {
   "collapsed_sections": [],
   "name": "P8.12.05.ipynb",
   "provenance": []
  },
  "kernelspec": {
   "display_name": "Python 3 (ipykernel)",
   "language": "python",
   "name": "python3"
  },
  "language_info": {
   "codemirror_mode": {
    "name": "ipython",
    "version": 3
   },
   "file_extension": ".py",
   "mimetype": "text/x-python",
   "name": "python",
   "nbconvert_exporter": "python",
   "pygments_lexer": "ipython3",
   "version": "3.9.7"
  }
 },
 "nbformat": 4,
 "nbformat_minor": 5
}
